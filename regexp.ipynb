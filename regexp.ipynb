{
 "cells": [
  {
   "cell_type": "markdown",
   "metadata": {},
   "source": [
    "#### NLTK: natural language ?? (library)\n",
    "#### python은 2.7 ver-> 3.0\n",
    "#### change가 많아서 호환이 잘 안됨\n",
    "#### python 사용자 중 2.7에 머물기도 해\n",
    "#### re: regular expression 관련 패키지\n",
    "#### function 사용된 거: re.search, re.findall 이 정도만 사용한 상태\n",
    "#### bracket 해서 list comprehension에 익숙해질 것\n",
    "#### 코드창인데 markdown처럼 comment를 넣으려면 앞에 # 넣어도 ok\n",
    "#### range로 #을 넣는 기능을 위해서(너무 계속 # 붙이려면 귀찮으니까)  '''~''' or \"\"\"~\"\"\" (적어놓았으나 실행되진 않음)"
   ]
  },
  {
   "cell_type": "code",
   "execution_count": 4,
   "metadata": {},
   "outputs": [
    {
     "ename": "NameError",
     "evalue": "name 'nltk' is not defined",
     "output_type": "error",
     "traceback": [
      "\u001b[1;31m---------------------------------------------------------------------------\u001b[0m",
      "\u001b[1;31mNameError\u001b[0m                                 Traceback (most recent call last)",
      "\u001b[1;32m<ipython-input-4-6e230a00a763>\u001b[0m in \u001b[0;36m<module>\u001b[1;34m\u001b[0m\n\u001b[1;32m----> 1\u001b[1;33m \u001b[0mnltk\u001b[0m\u001b[1;33m.\u001b[0m\u001b[0mdownload\u001b[0m\u001b[1;33m(\u001b[0m\u001b[1;33m)\u001b[0m\u001b[1;33m\u001b[0m\u001b[1;33m\u001b[0m\u001b[0m\n\u001b[0m",
      "\u001b[1;31mNameError\u001b[0m: name 'nltk' is not defined"
     ]
    }
   ],
   "source": [
    "nltk.download()"
   ]
  },
  {
   "cell_type": "code",
   "execution_count": 2,
   "metadata": {},
   "outputs": [],
   "source": [
    "import nltk\n",
    "import re"
   ]
  },
  {
   "cell_type": "code",
   "execution_count": 8,
   "metadata": {},
   "outputs": [],
   "source": [
    "var=\"\"\"\n",
    "Basic Regular Expression Meta-Characters, Including Wildcards, Ranges and Closures\n",
    ".\t        Wildcard, matches any character\n",
    "^abc\t    Matches some pattern abc at the start of a string\n",
    "abc$\t    Matches some pattern abc at the end of a string\n",
    "[abc]\t    Matches one of a set of characters\n",
    "[^abc]      Matches anything but a set of characters\n",
    "[A-Z0-9]\tMatches one of a range of characters\n",
    "ed|ing|s\tMatches one of the specified strings (disjunction)\n",
    "*\t        Zero or more of previous item, e.g. a*, [a-z]* (also known as Kleene Closure)\n",
    "+\t        One or more of previous item, e.g. a+, [a-z]+\n",
    "?\t        Zero or one of the previous item (i.e. optional), e.g. a?, [a-z]?\n",
    "{n}\t        Exactly n repeats where n is a non-negative integer\n",
    "{n,}\t    At least n repeats\n",
    "{,n}\t    No more than n repeats\n",
    "{m,n}\t    At least m and no more than n repeats\n",
    "a(b|c)+\t    Parentheses that indicate the scope of the operators\n",
    "\n",
    "\"\"\""
   ]
  },
  {
   "cell_type": "markdown",
   "metadata": {},
   "source": [
    "#### 명심: string에 적용되는 함수이다\n",
    "#### string에 적용되는 것이 regexp\n",
    "#### 사전을 통째로  nltk에서 가져옴"
   ]
  },
  {
   "cell_type": "code",
   "execution_count": 13,
   "metadata": {},
   "outputs": [
    {
     "name": "stdout",
     "output_type": "stream",
     "text": [
      "<class 'list'>\n"
     ]
    }
   ],
   "source": [
    "dic = nltk.corpus.words.words('en')\n",
    "print(type(dic))"
   ]
  },
  {
   "cell_type": "code",
   "execution_count": 14,
   "metadata": {},
   "outputs": [],
   "source": [
    "a=[]\n",
    "for w in nltk.corpus.words.words('en'):\n",
    "    if w.islower():\n",
    "        a.append(w)"
   ]
  },
  {
   "cell_type": "markdown",
   "metadata": {},
   "source": [
    "#### in 뒤의 list\n",
    "#### 그 리스트 안의 단어가 소문자일 때만 wordlist 안의 리스트에 쌓인다.\n",
    "#### 최초 10개만 보여다오"
   ]
  },
  {
   "cell_type": "code",
   "execution_count": 15,
   "metadata": {
    "scrolled": true
   },
   "outputs": [
    {
     "name": "stdout",
     "output_type": "stream",
     "text": [
      "['a', 'aa', 'aal', 'aalii', 'aam', 'aardvark', 'aardwolf', 'aba', 'abac', 'abaca']\n"
     ]
    }
   ],
   "source": [
    "wordlist = [w for w in dic if w.islower()]\n",
    "print(wordlist[:10])"
   ]
  },
  {
   "cell_type": "code",
   "execution_count": 33,
   "metadata": {},
   "outputs": [
    {
     "name": "stdout",
     "output_type": "stream",
     "text": [
      "['a', 'aa', 'aal', 'aalii', 'aam', 'aardvark', 'aardwolf', 'aba', 'abac', 'abaca']\n"
     ]
    }
   ],
   "source": [
    "wordlist = [w for w in nltk.corpus.words.words('en') if w.islower()]\n",
    "print(wordlist[:10])"
   ]
  },
  {
   "cell_type": "code",
   "execution_count": 31,
   "metadata": {},
   "outputs": [
    {
     "data": {
      "text/plain": [
       "True"
      ]
     },
     "execution_count": 31,
     "metadata": {},
     "output_type": "execute_result"
    }
   ],
   "source": [
    "a==wordlist"
   ]
  },
  {
   "cell_type": "markdown",
   "metadata": {},
   "source": [
    "#### regexp -string에 적용된다, list에 적용되지 않는다\n",
    "#### for loop의 의미: 어떤 사전이 있는데 이 조건에 해당하는 단어를 찾아라(X)\n",
    "#### regexp를 리스트 전체에 적용시키기 위해서는 한 요소씩(하나하나씩) 적용해야 한다(하나하나는 string이니까)"
   ]
  },
  {
   "cell_type": "markdown",
   "metadata": {},
   "source": [
    "#### 첫째: 찾는 조건, 둘째: 찾는 대상(리스트도 될 수 있고, string도 들어갈 수 있다)\n",
    "#### 뒤어세 앞의 내용을 찾아라\n",
    "#### 보여주는 방식: 찾은 걸 보여줄 수 있고, 찾은 range를 보여줄 수도 있다\n",
    "#### 여기선 둘 다 나옴"
   ]
  },
  {
   "cell_type": "code",
   "execution_count": 19,
   "metadata": {
    "scrolled": true
   },
   "outputs": [
    {
     "name": "stdout",
     "output_type": "stream",
     "text": [
      "<class 're.Match'>\n"
     ]
    }
   ],
   "source": [
    "re.search('abc','abcde')   # 함수의 입력 갯수: 2개\n",
    "print(type(re.search('abc','abcde')))"
   ]
  },
  {
   "cell_type": "markdown",
   "metadata": {},
   "source": [
    "#### output으로 아무것도 없는 이유는 2째 input에 1째 input에 해당하는 부분이 없으니까"
   ]
  },
  {
   "cell_type": "code",
   "execution_count": 18,
   "metadata": {},
   "outputs": [],
   "source": [
    "re.search('ed','abcde')"
   ]
  },
  {
   "cell_type": "code",
   "execution_count": 17,
   "metadata": {},
   "outputs": [
    {
     "name": "stdout",
     "output_type": "stream",
     "text": [
      "<re.Match object; span=(0, 3), match='abc'>\n"
     ]
    }
   ],
   "source": [
    "x = re.search('abc','abcde')\n",
    "print(x)"
   ]
  },
  {
   "cell_type": "markdown",
   "metadata": {},
   "source": [
    "#### wordlist 안에 있는 단어들이 w로 들어가서 for loop을 돈다(횟수: len(wordlist))\n",
    "#### w에 쌓일지 말지는 if문에서 결정됨 -ed로 끝나는 단어 가져오기, ed로 끝나지 않으면 그냥 패스하기\n",
    "#### 그렇게 해서 만들어진 리스트 중 처음부터 10번째 것까지만 result에 들어간다.\n",
    "#### 이럴 때 if 문이 없다면([:10]을 입력하지 않았다고 가정하자) result == wordlist"
   ]
  },
  {
   "cell_type": "code",
   "execution_count": 18,
   "metadata": {
    "scrolled": true
   },
   "outputs": [
    {
     "name": "stdout",
     "output_type": "stream",
     "text": [
      "['abaissed', 'abandoned', 'abased', 'abashed', 'abatised', 'abed', 'aborted', 'abridged', 'abscessed', 'absconded']\n",
      "['abaissed', 'abandoned', 'abased', 'abashed', 'abatised', 'abed', 'aborted', 'abridged', 'abscessed', 'absconded']\n"
     ]
    }
   ],
   "source": [
    "result = [w for w in wordlist if re.search('ed$', w)][:10]\n",
    "print(result)\n",
    "result = [w for w in wordlist if re.search('ed$', w)]\n",
    "print(result[:10])"
   ]
  },
  {
   "cell_type": "code",
   "execution_count": null,
   "metadata": {},
   "outputs": [],
   "source": [
    "result = [w for w in wordlist if re.search('ed$', w)][:10]\n",
    "print(result[:10])  # 여기서 10은 redundant"
   ]
  },
  {
   "cell_type": "markdown",
   "metadata": {},
   "source": [
    "#### ^: 앞, $: 뒤\n",
    "#### 3번째 character가 j, 6번째 character가 t, 그리고 t 뒤에 2개의 character가 있는 단어를 찾아라(각각의 .== 각각 하나의 character)"
   ]
  },
  {
   "cell_type": "code",
   "execution_count": 21,
   "metadata": {},
   "outputs": [
    {
     "name": "stdout",
     "output_type": "stream",
     "text": [
      "['abjectly', 'adjuster', 'dejected', 'dejectly', 'injector', 'majestic', 'objectee', 'objector', 'rejecter', 'rejector']\n",
      "['abjectly', 'adjuster', 'dejected', 'dejectly', 'injector', 'majestic', 'objectee', 'objector', 'rejecter', 'rejector', 'unjilted', 'unjolted', 'unjustly']\n",
      "13\n"
     ]
    }
   ],
   "source": [
    "result = [w for w in wordlist if re.search('^..j..t..$', w)]    # 출력되는 리스트의 단어릐 length: 8\n",
    "print(result[:10])\n",
    "print(result)\n",
    "print(len(result))"
   ]
  },
  {
   "cell_type": "code",
   "execution_count": 47,
   "metadata": {},
   "outputs": [
    {
     "name": "stdout",
     "output_type": "stream",
     "text": [
      "['abjectly', 'adjuster', 'dejected', 'dejectly', 'injector', 'majestic', 'objectee', 'objector', 'rejecter', 'rejector']\n",
      "<class 'list'>\n"
     ]
    }
   ],
   "source": [
    "result = [w for w in wordlist if re.search('^..j..t..$', w)][:10]    # 출력되는 리스트의 단어릐 length: 8\n",
    "print(result[:10])\n",
    "print(type(result))"
   ]
  },
  {
   "cell_type": "code",
   "execution_count": 48,
   "metadata": {},
   "outputs": [
    {
     "name": "stdout",
     "output_type": "stream",
     "text": [
      "['adjacently', 'objurgator', 'unjacketed', 'unjesuited']\n"
     ]
    }
   ],
   "source": [
    "result = [w for w in wordlist if re.search('^..j....t..$', w)][:10]\n",
    "print(result[:10])"
   ]
  },
  {
   "cell_type": "markdown",
   "metadata": {},
   "source": [
    "#### 첫째 자리: g,h,i 중 하나\n",
    "#### 둘째 자리: m,n,o 중 하나\n",
    "#### 셋째 자리: j,l,k 중 하나\n",
    "#### 넷째(=마지막자리($이 입력되어 있으므로)) 자리: d,e,f 중 하나\n",
    "#### 인 단어를 찾아서 앞의 10개까지만 result에 넣어라"
   ]
  },
  {
   "cell_type": "code",
   "execution_count": 7,
   "metadata": {
    "scrolled": true
   },
   "outputs": [
    {
     "name": "stdout",
     "output_type": "stream",
     "text": [
      "['gold', 'golf', 'hold', 'hole']\n"
     ]
    }
   ],
   "source": [
    "result = [w for w in wordlist if re.search('^[ghi][mno][jlk][def]$', w)][:10]\n",
    "print(result[:10])"
   ]
  },
  {
   "cell_type": "markdown",
   "metadata": {},
   "source": [
    "#### 첫째 자리: a 또는 h\n",
    "#### 둘째 자리~끝 자리: 아무것도 오지 않을 수 있고, 온다면 a또는 h가 온다.\n",
    "#### +의 의미: 1회 이상\n",
    "#### 10개까지 print하라고 했으나 원래 변수의 길이가 10보다 짧으면 짧은 대로 print된다."
   ]
  },
  {
   "cell_type": "code",
   "execution_count": 8,
   "metadata": {},
   "outputs": [
    {
     "name": "stdout",
     "output_type": "stream",
     "text": [
      "['a', 'aa', 'ah', 'aha', 'h', 'ha', 'hah']\n"
     ]
    }
   ],
   "source": [
    "result = [w for w in wordlist if re.search('^[ah]+$', w)][:10]\n",
    "print(result[:10])"
   ]
  },
  {
   "cell_type": "markdown",
   "metadata": {},
   "source": [
    "#### 너무 많아서 끝 부분이 ...으로 나옴:  ('3.80', ...])\n",
    "#### world street journal\n",
    "#### wsj에서 나온 단어들이 나온 것\n",
    "#### type(wsj) == list"
   ]
  },
  {
   "cell_type": "code",
   "execution_count": 4,
   "metadata": {},
   "outputs": [],
   "source": [
    "wsj = sorted(set(nltk.corpus.treebank.words()))\n",
    "# wsj"
   ]
  },
  {
   "cell_type": "markdown",
   "metadata": {},
   "source": [
    "#### 처음(^이 있으므로): 0~9 중 하나(+: 1회 이상 올 수 있다)\n",
    "### \\ . :  특수문자인 점을 print하는 방법(실제 .을 찾는 방법)\n",
    "#### 끝(달러모양): 0~9 중 하나(+: 1회 이상 올 수 있다)\n",
    "#### 만약 [09] -> 0 또는 9\n",
    "### \\ + : 특수문자인 +을 찾아라\n",
    "#### 실수를 찾는 셈(음수 제외)\n",
    "#### '^'와 '$' 없애면 정해진 패턴이 아무데서나 포함되기만 하면 됨"
   ]
  },
  {
   "cell_type": "code",
   "execution_count": 25,
   "metadata": {
    "scrolled": true
   },
   "outputs": [
    {
     "name": "stdout",
     "output_type": "stream",
     "text": [
      "['0.0085', '0.05', '0.1', '0.16', '0.2', '0.25', '0.28', '0.3', '0.4', '0.5']\n",
      "['9.9', '92.9', '93.3', '93.9', '94.2', '94.8', '95.09', '96.4', '98.3', '99.1', '99.3']\n"
     ]
    }
   ],
   "source": [
    "wordlist = [w for w in wsj if re.search('^[0-9]+\\.[0-9]+$', w)]\n",
    "print(wordlist[:10])\n",
    "print(wordlist[470:])"
   ]
  },
  {
   "cell_type": "markdown",
   "metadata": {},
   "source": [
    "#### 알파벳이 뭐가 나오든!\n",
    "#### 알파벳이든 숫자든 자리 1개 = .\n",
    "#### 왜 달러모양이 2개? '\\달러모양'의 의미: 특수문자인 달러모양기호가 붙어있다\n",
    "#### 알파벳 아무거나 + $로 끝나는 것을 찾아라\n",
    "#### [A-Z0-9]: 알파벳 또는 숫자 1개 나옴.(특수문자를 제외한 것) len = 1\n",
    "#### [^abc] : a,b,c가 아닌 것 아무거나 중 1개만 나와라"
   ]
  },
  {
   "cell_type": "code",
   "execution_count": 27,
   "metadata": {},
   "outputs": [
    {
     "name": "stdout",
     "output_type": "stream",
     "text": [
      "['C$', 'US$']\n"
     ]
    }
   ],
   "source": [
    "wordlist = [w for w in wsj if re.search('^[A-Z]+\\$$', w)]\n",
    "print(wordlist[:10])"
   ]
  },
  {
   "cell_type": "markdown",
   "metadata": {},
   "source": [
    "#### 리스트가 비어 있다:1개이상의 소문자 뒤에 달러모양이 붙은 경우는 없다"
   ]
  },
  {
   "cell_type": "code",
   "execution_count": 28,
   "metadata": {
    "scrolled": true
   },
   "outputs": [
    {
     "name": "stdout",
     "output_type": "stream",
     "text": [
      "[]\n"
     ]
    }
   ],
   "source": [
    "wordlist = [w for w in wsj if re.search('^[a-z]+\\$$', w)]\n",
    "print(wordlist[:10])"
   ]
  },
  {
   "cell_type": "markdown",
   "metadata": {},
   "source": [
    "#### 결과의 의미: 알파벳이 1개 이상 나오고 뒤에 달러모양이 오는 경우는 대문자 1~2개 뒤에 달러모양이 오는 경우만 있다."
   ]
  },
  {
   "cell_type": "code",
   "execution_count": 29,
   "metadata": {
    "scrolled": true
   },
   "outputs": [
    {
     "name": "stdout",
     "output_type": "stream",
     "text": [
      "['C$', 'US$']\n"
     ]
    }
   ],
   "source": [
    "wordlist = [w for w in wsj if re.search('^[A-Za-z]+\\$$', w)]\n",
    "print(wordlist[:10])"
   ]
  },
  {
   "cell_type": "markdown",
   "metadata": {},
   "source": [
    "#### {숫자} : 반복 횟수\n",
    "#### 0~9에서 하나의 숫자의 골라 나오는 과정이 4번 반복된다."
   ]
  },
  {
   "cell_type": "code",
   "execution_count": 12,
   "metadata": {
    "scrolled": true
   },
   "outputs": [
    {
     "name": "stdout",
     "output_type": "stream",
     "text": [
      "['1614', '1637', '1787', '1901', '1903', '1917', '1925', '1929', '1933', '1934']\n"
     ]
    }
   ],
   "source": [
    "wordlist = [w for w in wsj if re.search('^[0-9]{4}$', w)]\n",
    "print(wordlist[:10])"
   ]
  },
  {
   "cell_type": "markdown",
   "metadata": {},
   "source": [
    "#### 리스트 요소의 특징\n",
    "#### 처음에 숫자가 하나 이상 나온다\n",
    "#### -: 그냥 입력되고 출력된다(그냥 특수기호일 뿐이라 별다른 의미가 없다)\n",
    "#### 끝엔 알파벳이 3~5자리가 나온다\n",
    "#### 하나 이상이라고 지정했는데 하나짜리는 없나봐(숫자)"
   ]
  },
  {
   "cell_type": "code",
   "execution_count": 13,
   "metadata": {},
   "outputs": [
    {
     "name": "stdout",
     "output_type": "stream",
     "text": [
      "['10-day', '10-lap', '10-year', '100-share', '12-point', '12-year', '14-hour', '15-day', '150-point', '190-point']\n"
     ]
    }
   ],
   "source": [
    "wordlist = [w for w in wsj if re.search('^[0-9]+-[a-z]{3,5}$', w)]\n",
    "print(wordlist[:10])"
   ]
  },
  {
   "cell_type": "markdown",
   "metadata": {},
   "source": [
    "#### <이 리스트 요소의 특징>\n",
    "#### 1) 알파벳이 5개 이상\n",
    "#### 2) -가 쓰인다\n",
    "#### 3) 알파벳이 2~3개\n",
    "#### 4) -가 쓰임\n",
    "#### 5) 알파벳이 6개 이하인 것\n",
    "#### 하나의 결과물을 위해서 다양한 regexp을 쓸 수 있다"
   ]
  },
  {
   "cell_type": "code",
   "execution_count": 14,
   "metadata": {
    "scrolled": true
   },
   "outputs": [
    {
     "name": "stdout",
     "output_type": "stream",
     "text": [
      "['black-and-white', 'bread-and-butter', 'father-in-law', 'machine-gun-toting', 'savings-and-loan']\n"
     ]
    }
   ],
   "source": [
    "wordlist = [w for w in wsj if re.search('^[a-z]{5,}-[a-z]{2,3}-[a-z]{,6}$', w)]\n",
    "print(wordlist[:10])"
   ]
  },
  {
   "cell_type": "markdown",
   "metadata": {},
   "source": [
    "#### | : '또는'\n",
    "#### ed로 끝나거나 ing로 끝나는 것\n",
    "#### (||||) 이렇게 또는의 대상이 되는 것들은 소괄호로 묶어야지"
   ]
  },
  {
   "cell_type": "code",
   "execution_count": 15,
   "metadata": {
    "scrolled": true
   },
   "outputs": [
    {
     "name": "stdout",
     "output_type": "stream",
     "text": [
      "['62%-owned', 'Absorbed', 'According', 'Adopting', 'Advanced', 'Advancing', 'Alfred', 'Allied', 'Annualized', 'Anything']\n"
     ]
    }
   ],
   "source": [
    "wordlist = [w for w in wsj if re.search('(ed|ing)$', w)]\n",
    "print(wordlist[:10])"
   ]
  },
  {
   "cell_type": "markdown",
   "metadata": {},
   "source": [
    "#### 또는의 대상이 되는 string의 길이가 1일 수 있다."
   ]
  },
  {
   "cell_type": "code",
   "execution_count": 7,
   "metadata": {
    "scrolled": true
   },
   "outputs": [
    {
     "name": "stdout",
     "output_type": "stream",
     "text": [
      "[\"'re\", \"'ve\", '100-megabyte', '100-share', '120-a-share', '18-a-share', '240-page', '30-minute', '30-share', '300-a-share']\n"
     ]
    }
   ],
   "source": [
    "wordlist = [w for w in wsj if re.search('(e|i)$', w)]\n",
    "print(wordlist[:10])"
   ]
  },
  {
   "cell_type": "markdown",
   "metadata": {},
   "source": [
    "#### nltk.FreqDist(vs for word in wsj) 이걸 먼저 생각해라\n",
    "#### :wsj에 있는 단어들을 word에 넣는데, 이때 각 요소가 몇 번 나오는지를 짝 지어 줘라\n",
    "#### FreqDist의 결과물은 list가 아니다"
   ]
  },
  {
   "cell_type": "code",
   "execution_count": 12,
   "metadata": {},
   "outputs": [
    {
     "name": "stdout",
     "output_type": "stream",
     "text": [
      "<FreqDist with 12408 samples and 12408 outcomes>\n",
      "<class 'nltk.probability.FreqDist'>\n",
      "12408\n",
      "12408\n"
     ]
    }
   ],
   "source": [
    "fdist = nltk.FreqDist(word for word in wsj)\n",
    "print(fdist)\n",
    "print(type(fdist))\n",
    "print(len(fdist))\n",
    "print(len(wsj))"
   ]
  },
  {
   "cell_type": "markdown",
   "metadata": {},
   "source": [
    "#### re.search: 뭐가 있느냐 없느냐를 찾아줌\n",
    "#### re.findall: 2째input에 1째input에 해당하는 것이 있으면 그냥 다 찾아서 리스트로 만들어서 줘라\n",
    "#### re.search와 re.findall이 주는 output의 type은 다르다"
   ]
  },
  {
   "cell_type": "code",
   "execution_count": 22,
   "metadata": {
    "scrolled": true
   },
   "outputs": [
    {
     "name": "stdout",
     "output_type": "stream",
     "text": [
      "['ab', 'ab', 'ab', 'ab']\n",
      "<class 'list'>\n"
     ]
    }
   ],
   "source": [
    "print(re.findall('ab','ababdddabkabddd'))\n",
    "print(type(re.findall('ab','ababdddabkabddd')))"
   ]
  },
  {
   "cell_type": "markdown",
   "metadata": {},
   "source": [
    "#### re.Match에는 len 함수를 적용할 수 없다."
   ]
  },
  {
   "cell_type": "code",
   "execution_count": 24,
   "metadata": {},
   "outputs": [
    {
     "name": "stdout",
     "output_type": "stream",
     "text": [
      "<re.Match object; span=(0, 2), match='ab'>\n",
      "<class 're.Match'>\n"
     ]
    },
    {
     "ename": "TypeError",
     "evalue": "object of type 're.Match' has no len()",
     "output_type": "error",
     "traceback": [
      "\u001b[1;31m---------------------------------------------------------------------------\u001b[0m",
      "\u001b[1;31mTypeError\u001b[0m                                 Traceback (most recent call last)",
      "\u001b[1;32m<ipython-input-24-f75a19086f68>\u001b[0m in \u001b[0;36m<module>\u001b[1;34m\u001b[0m\n\u001b[0;32m      1\u001b[0m \u001b[0mprint\u001b[0m\u001b[1;33m(\u001b[0m\u001b[0mre\u001b[0m\u001b[1;33m.\u001b[0m\u001b[0msearch\u001b[0m\u001b[1;33m(\u001b[0m\u001b[1;34m'ab'\u001b[0m\u001b[1;33m,\u001b[0m\u001b[1;34m'ababdddabkabddd'\u001b[0m\u001b[1;33m)\u001b[0m\u001b[1;33m)\u001b[0m\u001b[1;33m\u001b[0m\u001b[1;33m\u001b[0m\u001b[0m\n\u001b[0;32m      2\u001b[0m \u001b[0mprint\u001b[0m\u001b[1;33m(\u001b[0m\u001b[0mtype\u001b[0m\u001b[1;33m(\u001b[0m\u001b[0mre\u001b[0m\u001b[1;33m.\u001b[0m\u001b[0msearch\u001b[0m\u001b[1;33m(\u001b[0m\u001b[1;34m'ab'\u001b[0m\u001b[1;33m,\u001b[0m\u001b[1;34m'ababdddabkabddd'\u001b[0m\u001b[1;33m)\u001b[0m\u001b[1;33m)\u001b[0m\u001b[1;33m)\u001b[0m\u001b[1;33m\u001b[0m\u001b[1;33m\u001b[0m\u001b[0m\n\u001b[1;32m----> 3\u001b[1;33m \u001b[0mprint\u001b[0m\u001b[1;33m(\u001b[0m\u001b[0mlen\u001b[0m\u001b[1;33m(\u001b[0m\u001b[0mre\u001b[0m\u001b[1;33m.\u001b[0m\u001b[0msearch\u001b[0m\u001b[1;33m(\u001b[0m\u001b[1;34m'ab'\u001b[0m\u001b[1;33m,\u001b[0m\u001b[1;34m'ababdddabkabddd'\u001b[0m\u001b[1;33m)\u001b[0m\u001b[1;33m)\u001b[0m\u001b[1;33m)\u001b[0m\u001b[1;33m\u001b[0m\u001b[1;33m\u001b[0m\u001b[0m\n\u001b[0m",
      "\u001b[1;31mTypeError\u001b[0m: object of type 're.Match' has no len()"
     ]
    }
   ],
   "source": [
    "print(re.search('ab','ababdddabkabddd'))\n",
    "print(type(re.search('ab','ababdddabkabddd')))\n",
    "print(len(re.search('ab','ababdddabkabddd')))"
   ]
  },
  {
   "cell_type": "markdown",
   "metadata": {},
   "source": [
    "#### 왜 하는가? - 이 사전에서 모음을 다 뽑아와라\n",
    "#### 하나 이상이 되는 것을 뽑아오라고 할 수도 있다"
   ]
  },
  {
   "cell_type": "code",
   "execution_count": 8,
   "metadata": {},
   "outputs": [
    {
     "name": "stdout",
     "output_type": "stream",
     "text": [
      "<class 'list'>\n"
     ]
    }
   ],
   "source": [
    "atleastone1 = [vs for word in wsj for vs in re.findall(r'[aeiou]{1,}',word)]\n",
    "print(type(atleastone1))"
   ]
  },
  {
   "cell_type": "code",
   "execution_count": 9,
   "metadata": {},
   "outputs": [],
   "source": [
    "atleastone2 = [vs for word in wsj for vs in re.findall(r'[aeiou]+',word)]"
   ]
  },
  {
   "cell_type": "code",
   "execution_count": 10,
   "metadata": {},
   "outputs": [
    {
     "data": {
      "text/plain": [
       "True"
      ]
     },
     "execution_count": 10,
     "metadata": {},
     "output_type": "execute_result"
    }
   ],
   "source": [
    "atleastone1 == atleastone2"
   ]
  },
  {
   "cell_type": "code",
   "execution_count": 11,
   "metadata": {},
   "outputs": [
    {
     "name": "stdout",
     "output_type": "stream",
     "text": [
      "26119\n"
     ]
    }
   ],
   "source": [
    "print(len(atleastone1))"
   ]
  },
  {
   "cell_type": "code",
   "execution_count": 12,
   "metadata": {},
   "outputs": [
    {
     "ename": "SyntaxError",
     "evalue": "invalid syntax (<ipython-input-12-a241399327fd>, line 1)",
     "output_type": "error",
     "traceback": [
      "\u001b[1;36m  File \u001b[1;32m\"<ipython-input-12-a241399327fd>\"\u001b[1;36m, line \u001b[1;32m1\u001b[0m\n\u001b[1;33m    vs for word in wsj for vs in re.findall(r'[aeiou]{2,}',word)\u001b[0m\n\u001b[1;37m         ^\u001b[0m\n\u001b[1;31mSyntaxError\u001b[0m\u001b[1;31m:\u001b[0m invalid syntax\n"
     ]
    }
   ],
   "source": [
    "vs for word in wsj for vs in re.findall(r'[aeiou]{2,}',word)"
   ]
  },
  {
   "cell_type": "code",
   "execution_count": 33,
   "metadata": {
    "collapsed": true
   },
   "outputs": [
    {
     "name": "stdout",
     "output_type": "stream",
     "text": [
      "3405\n",
      "['ea', 'oi', 'ea', 'ou', 'oi', 'ea', 'ea', 'oi', 'oi', 'ea', 'io', 'ea', 'ea', 'ea', 'oi', 'ea', 'ea', 'ea', 'ea', 'ea', 'ea', 'ea', 'ee', 'ea', 'ea', 'ea', 'ea', 'ea', 'ea', 'ea', 'ea', 'oi', 'ea', 'ea', 'ou', 'ou', 'ou', 'ie', 'ui', 'io', 'ua', 'io', 'ai', 'ai', 'ai', 'io', 'ie', 'ue', 'ue', 'ia', 'ie', 'ea', 'ai', 'ou', 'ia', 'ei', 'ie', 'ea', 'ea', 'ie', 'ia', 'ia', 'ua', 'ie', 'io', 'ea', 'ia', 'io', 'ui', 'ia', 'ia', 'ea', 'iai', 'ai', 'ia', 'ia', 'ia', 'ia', 'ia', 'io', 'oo', 'io', 'ia', 'ia', 'ia', 'ia', 'ue', 'ea', 'ai', 'ai', 'ue', 'ie', 'au', 'ea', 'ea', 'ea', 'ea', 'eau', 'au', 'ei', 'ei', 'ei', 'ei', 'ei', 'ia', 'ie', 'io', 'ue', 'oa', 'oei', 'oe', 'ia', 'oo', 'oo', 'oo', 'eau', 'ou', 'ou', 'ai', 'ou', 'ai', 'oo', 'ea', 'au', 'ia', 'ea', 'ea', 'ee', 'ia', 'ai', 'oa', 'oo', 'oo', 'oo', 'ei', 'ei', 'ea', 'ui', 'ui', 'eau', 'ie', 'ia', 'ia', 'ai', 'eau', 'ia', 'ea', 'ie', 'ie', 'oo', 'ai', 'ai', 'io', 'ie', 'ie', 'eau', 'ee', 'ee', 'ea', 'io', 'oo', 'ia', 'ie', 'ui', 'io', 'io', 'io', 'ai', 'ai', 'au', 'oa', 'oi', 'ia', 'io', 'io', 'ee', 'ie', 'ea', 'io', 'io', 'ie', 'ou', 'io', 'io', 'ue', 'io', 'io', 'ai', 'ue', 'ui', 'io', 'oo', 'oo', 'io', 'ou', 'ou', 'ou', 'ou', 'ie', 'ou', 'ou', 'ou', 'ou', 'ou', 'ee', 'ui', 'ee', 'ia', 'ai', 'ai', 'ai', 'ie', 'ie', 'oi', 'ie', 'io', 'ea', 'ea', 'ea', 'ee', 'au', 'io', 'ai', 'io', 'oi', 'ia', 'ia', 'eo', 'ie', 'ea', 'io', 'oa', 'oe', 'ai', 'io', 'ie', 'ue', 'ou', 'oi', 'ue', 'ee', 'ie', 'ia', 'ie', 'io', 'io', 'ia', 'io', 'ie', 'ou', 'ou', 'ee', 'ea', 'ai', 'ua', 'ui', 'ui', 'ui', 'uu', 'ea', 'ea', 'io', 'ui', 'ie', 'ia', 'ie', 'ie', 'ei', 'ai', 'ai', 'ai', 'ai', 'ai', 'ie', 'au', 'ea', 'ua', 'io', 'ee', 'ee', 'ie', 'ee', 'ia', 'ia', 'io', 'oo', 'oo', 'oo', 'ei', 'ei', 'ou', 'io', 'ou', 'ou', 'ai', 'ou', 'ou', 'ee', 'ou', 'ie', 'ee', 'ee', 'eu', 'eu', 'ie', 'ie', 'ue', 'ai', 'ie', 'eo', 'eo', 'eo', 'ia', 'eo', 'ia', 'ia', 'ia', 'ie', 'ie', 'au', 'iu', 'ia', 'au', 'oo', 'oo', 'ie', 'ua', 'ua', 'ai', 'ea', 'ee', 'ee', 'ee', 'ee', 'ee', 'ou', 'ou', 'ou', 'ua', 'ee', 'ua', 'ee', 'ua', 'ue', 'ui', 'ui', 'ui', 'ea', 'oo', 'ou', 'ou', 'au', 'io', 'aii', 'aiia', 'ea', 'ea', 'ea', 'ea', 'ea', 'ei', 'ei', 'ei', 'ei', 'oo', 'ie', 'oo', 'ou', 'ou', 'ou', 'ou', 'ou', 'ou', 'ea', 'oi', 'ee', 'ia', 'ia', 'ia', 'ua', 'ua', 'ia', 'ia', 'ie', 'io', 'ia', 'ou', 'ea', 'io', 'io', 'eu', 'ia', 'io', 'ie', 'ia', 'ie', 'ae', 'ue', 'ia', 'ua', 'ai', 'aa', 'aa', 'ai', 'ua', 'oa', 'oe', 'oe', 'ou', 'ou', 'ia', 'ia', 'ie', 'ia', 'oo', 'ee', 'ei', 'ea', 'ea', 'ee', 'ei', 'ei', 'ee', 'au', 'ei', 'oi', 'oi', 'ea', 'ua', 'ie', 'oui', 'ieu', 'ou', 'au', 'au', 'au', 'ea', 'ea', 'ea', 'ee', 'ou', 'io', 'ei', 'ei', 'ei', 'eo', 'eo', 'io', 'ie', 'ou', 'oa', 'oe', 'oe', 'oo', 'ai', 'oui', 'oui', 'ia', 'oui', 'ia', 'oui', 'ie', 'ae', 'ai', 'ia', 'ia', 'ie', 'ie', 'oui', 'ie', 'io', 'io', 'io', 'ia', 'au', 'ui', 'eo', 'ea', 'ea', 'ia', 'ee', 'ei', 'ia', 'ia', 'ia', 'ae', 'ae', 'io', 'ue', 'ai', 'au', 'ee', 'ea', 'ea', 'io', 'ou', 'ui', 'io', 'oi', 'ou', 'ie', 'oo', 'oo', 'oo', 'eo', 'ou', 'ua', 'oi', 'ia', 'ia', 'ia', 'io', 'io', 'io', 'io', 'ea', 'ea', 'ea', 'ee', 'ia', 'ei', 'ei', 'oo', 'eu', 'ou', 'ee', 'ua', 'ie', 'ei', 'ai', 'ie', 'ea', 'ia', 'ou', 'ie', 'ou', 'ei', 'io', 'io', 'ea', 'ia', 'io', 'io', 'ou', 'ia', 'io', 'io', 'io', 'io', 'io', 'ea', 'ea', 'ea', 'ai', 'ia', 'ua', 'ou', 'ia', 'ie', 'ia', 'au', 'au', 'ou', 'ea', 'ia', 'ie', 'eo', 'eo', 'ia', 'oi', 'io', 'ua', 'eu', 'ao', 'ia', 'ia', 'oe', 'ie', 'ie', 'io', 'ai', 'io', 'ie', 'oo', 'oo', 'io', 'ua', 'iou', 'ie', 'ia', 'iou', 'io', 'ee', 'io', 'io', 'ua', 'io', 'ia', 'ia', 'io', 'io', 'ue', 'ua', 'uee', 'ia', 'io', 'ae', 'ai', 'ai', 'oa', 'ei', 'ie', 'au', 'oo', 'ea', 'ea', 'ea', 'ea', 'ea', 'oo', 'ee', 'io', 'ia', 'ai', 'ee', 'ea', 'ea', 'ou', 'au', 'ai', 'eu', 'eu', 'eu', 'ue', 'ie', 'io', 'ou', 'ie', 'ie', 'ie', 'ie', 'ie', 'oe', 'ee', 'oo', 'oo', 'oo', 'ie', 'ou', 'ou', 'ie', 'ia', 'ai', 'ai', 'ue', 'au', 'au', 'au', 'au', 'ia', 'ae', 'oo', 'ei', 'ie', 'ie', 'ia', 'ea', 'ea', 'ea', 'ea', 'ea', 'ea', 'ia', 'ia', 'io', 'ie', 'ee', 'ou', 'io', 'io', 'eou', 'ia', 'ie', 'io', 'ou', 'ea', 'ee', 'ie', 'oo', 'ai', 'ia', 'ie', 'ie', 'eo', 'ie', 'oa', 'ia', 'ie', 'aia', 'io', 'oo', 'ou', 'ou', 'ou', 'ou', 'ou', 'ou', 'ea', 'ou', 'ie', 'ie', 'ai', 'io', 'ee', 'ie', 'ie', 'oo', 'ea', 'ie', 'uie', 'iu', 'iu', 'ea', 'ee', 'ee', 'ei', 'ie', 'ie', 'ie', 'ai', 'ee', 'ua', 'ui', 'ai', 'ea', 'ai', 'ai', 'ei', 'ai', 'ai', 'ai', 'eo', 'au', 'ea', 'ea', 'ei', 'io', 'io', 'ai', 'ai', 'ei', 'eo', 'ou', 'ou', 'ee', 'oo', 'io', 'oo', 'ou', 'ou', 'io', 'io', 'ai', 'ai', 'io', 'ea', 'ie', 'ee', 'au', 'ou', 'eau', 'ue', 'ou', 'ai', 'oo', 'oo', 'io', 'ie', 'ie', 'ue', 'ia', 'eo', 'ia', 'ia', 'ua', 'oi', 'ae', 'ae', 'ui', 'ou', 'oo', 'ea', 'ee', 'ei', 'ei', 'ie', 'ei', 'ou', 'ee', 'ea', 'ia', 'ia', 'ia', 'ou', 'oo', 'oo', 'oo', 'oo', 'oo', 'ee', 'ia', 'iao', 'ai', 'ea', 'ea', 'ie', 'ou', 'ou', 'ou', 'ou', 'ou', 'ue', 'ea', 'oa', 'io', 'io', 'io', 'io', 'ou', 'ou', 'oa', 'io', 'ie', 'io', 'ou', 'ou', 'ou', 'ou', 'ou', 'ou', 'ou', 'ue', 'ue', 'ie', 'ie', 'ie', 'ie', 'ie', 'ai', 'ui', 'ui', 'ui', 'ui', 'ui', 'ui', 'ui', 'io', 'ui', 'io', 'ui', 'io', 'io', 'io', 'ie', 'ua', 'ua', 'io', 'io', 'io', 'io', 'ua', 'ua', 'io', 'io', 'ia', 'ae', 'ae', 'ai', 'ai', 'ia', 'ia', 'ai', 'oo', 'ai', 'ai', 'ie', 'ee', 'ee', 'ee', 'eei', 'ee', 'ee', 'ee', 'ea', 'ai', 'ai', 'ai', 'ai', 'ai', 'ai', 'ai', 'ai', 'ai', 'ai', 'ai', 'ai', 'ai', 'ai', 'ai', 'ai', 'ai', 'ai', 'ai', 'ie', 'io', 'ia', 'ie', 'io', 'ea', 'ou', 'ui', 'io', 'iou', 'io', 'ou', 'ou', 'ou', 'ie', 'ou', 'ou', 'ou', 'ou', 'ua', 'ua', 'ua', 'io', 'io', 'ia', 'eo', 'io', 'ie', 'ie', 'iou', 'ie', 'ea', 'ea', 'ea', 'ea', 'ea', 'ea', 'ea', 'ea', 'au', 'ia', 'ia', 'io', 'io', 'ie', 'oi', 'oi', 'oi', 'oi', 'ia', 'io', 'oa', 'oa', 'oa', 'ia', 'ia', 'ia', 'io', 'ia', 'io', 'ia', 'ea', 'ea', 'ue', 'ue', 'ue', 'ui', 'ou', 'io', 'au', 'au', 'io', 'io', 'ua', 'io', 'ia', 'ia', 'ia', 'ia', 'io', 'io', 'io', 'ie', 'io', 'au', 'io', 'au', 'io', 'au', 'io', 'au', 'ie', 'au', 'io', 'au', 'au', 'au', 'au', 'au', 'au', 'au', 'ie', 'au', 'au', 'au', 'au', 'au', 'au', 'io', 'au', 'au', 'au', 'au', 'au', 'io', 'au', 'au', 'au', 'au', 'au', 'au', 'au', 'ai', 'ue', 'oi', 'oi', 'ai', 'ou', 'oo', 'oo', 'ue', 'ai', 'ai', 'ie', 'ie', 'ea', 'ea', 'ea', 'ea', 'eau', 'eau', 'au', 'ee', 'ee', 'ee', 'ee', 'io', 'ea', 'ei', 'ea', 'ue', 'ie', 'ie', 'ie', 'ie', 'ia', 'ia', 'ie', 'ia', 'ee', 'ia', 'ua', 'ia', 'ua', 'io', 'io', 'io', 'ai', 'io', 'ui', 'oo', 'oo', 'oo', 'oo', 'eo', 'ue', 'ue', 'ue', 'ue', 'oa', 'oa', 'oa', 'oi', 'oo', 'ie', 'oo', 'oo', 'oo', 'oo', 'oo', 'oo', 'oo', 'oo', 'oo', 'oo', 'oo', 'oo', 'oo', 'oo', 'ou', 'ou', 'ou', 'ou', 'ou', 'ou', 'ue', 'ie', 'ai', 'ea', 'ea', 'ea', 'ea', 'ea', 'ea', 'ea', 'ea', 'ea', 'ea', 'ea', 'ea', 'ea', 'ee', 'ee', 'ie', 'ie', 'ie', 'ia', 'ia', 'oa', 'oa', 'oa', 'oa', 'oa', 'oa', 'oa', 'oa', 'ou', 'ui', 'ui', 'ui', 'ui', 'ui', 'ui', 'ui', 'ui', 'uo', 'eau', 'eau', 'ie', 'oa', 'ou', 'ou', 'iu', 'io', 'ai', 'ai', 'ai', 'ai', 'io', 'au', 'ai', 'oa', 'io', 'ee', 'ee', 'ee', 'ie', 'ie', 'ie', 'ie', 'oo', 'ie', 'au', 'au', 'au', 'au', 'au', 'au', 'au', 'io', 'au', 'io', 'au', 'iou', 'au', 'iou', 'ea', 'ou', 'ea', 'ei', 'ia', 'ie', 'ea', 'ai', 'ai', 'ie', 'ai', 'ai', 'ai', 'ai', 'io', 'io', 'ao', 'ao', 'au', 'eu', 'ea', 'ea', 'ea', 'ea', 'oo', 'ee', 'ea', 'ee', 'ea', 'ie', 'ie', 'oi', 'oo', 'oo', 'oo', 'oe', 'ui', 'ui', 'oa', 'ui', 'ea', 'io', 'io', 'io', 'ie', 'io', 'ai', 'ai', 'ai', 'ai', 'ie', 'io', 'ie', 'oo', 'au', 'ea', 'ea', 'ai', 'ea', 'ea', 'ea', 'ea', 'ea', 'ea', 'ea', 'ea', 'ea', 'ea', 'ea', 'ea', 'ie', 'ie', 'ou', 'ou', 'ou', 'ue', 'au', 'ai', 'ou', 'oa', 'oa', 'oa', 'oa', 'oa', 'ie', 'ee', 'oi', 'eu', 'ea', 'ue', 'io', 'io', 'ai', 'io', 'io', 'ie', 'ia', 'ia', 'io', 'io', 'ee', 'ee', 'ie', 'io', 'io', 'ie', 'io', 'io', 'io', 'io', 'io', 'io', 'ai', 'ai', 'ai', 'ai', 'ai', 'ai', 'io', 'ia', 'io', 'ou', 'ai', 'ei', 'io', 'io', 'io', 'io', 'io', 'io', 'ui', 'ee', 'ia', 'io', 'io', 'io', 'io', 'ue', 'ue', 'io', 'uou', 'ue', 'io', 'io', 'ai', 'io', 'ue', 'io', 'ai', 'ai', 'ai', 'ai', 'ai', 'ai', 'ee', 'ua', 'ue', 'ue', 'ue', 'ui', 'ui', 'uou', 'uou', 'io', 'io', 'io', 'ia', 'ie', 'io', 'io', 'io', 'io', 'oo', 'oo', 'oo', 'oo', 'io', 'oo', 'oo', 'ie', 'ie', 'io', 'io', 'io', 'ou', 'ou', 'ou', 'ou', 'ou', 'ou', 'ou', 'ou', 'ou', 'ou', 'ou', 'io', 'ou', 'ei', 'ou', 'ou', 'ou', 'ie', 'ou', 'ou', 'ou', 'ou', 'ou', 'ou', 'ou', 'ou', 'ou', 'ou', 'ou', 'oo', 'ou', 'ou', 'oo', 'ea', 'ea', 'ea', 'ea', 'ea', 'ea', 'io', 'ea', 'ea', 'ea', 'ia', 'ia', 'oo', 'oo', 'ia', 'ui', 'ui', 'ue', 'ue', 'io', 'ie', 'ai', 'ai', 'io', 'io', 'oa', 'ee', 'ai', 'ie', 'ai', 'ai', 'au', 'ea', 'ea', 'ea', 'ea', 'oo', 'ea', 'ea', 'ea', 'ea', 'ea', 'ea', 'ea', 'ea', 'io', 'io', 'io', 'ea', 'ie', 'ie', 'ee', 'ee', 'ee', 'ee', 'au', 'ea', 'ea', 'ea', 'ie', 'ie', 'ee', 'ee', 'io', 'ia', 'ie', 'ie', 'ou', 'ou', 'io', 'io', 'io', 'io', 'io', 'io', 'io', 'ai', 'ai', 'ai', 'io', 'io', 'io', 'io', 'ia', 'ia', 'io', 'ou', 'ia', 'ia', 'ia', 'ia', 'ue', 'ia', 'ia', 'ie', 'ie', 'ie', 'ia', 'ie', 'au', 'ai', 'io', 'io', 'ie', 'ia', 'io', 'ee', 'eea', 'ee', 'ee', 'ee', 'ea', 'ea', 'oi', 'oi', 'oi', 'ue', 'ue', 'ui', 'ou', 'ou', 'ou', 'ou', 'ie', 'io', 'io', 'io', 'io', 'io', 'ea', 'ea', 'ie', 'io', 'io', 'io', 'ui', 'io', 'io', 'ie', 'io', 'io', 'io', 'ou', 'oe', 'oi', 'io', 'oo', 'oo', 'ou', 'ou', 'ou', 'ou', 'ou', 'ou', 'ou', 'ou', 'ai', 'ea', 'ea', 'ea', 'ea', 'ie', 'oo', 'ou', 'ou', 'ue', 'ou', 'ie', 'uo', 'oo', 'ie', 'ee', 'ea', 'ea', 'ea', 'ie', 'ea', 'ie', 'ea', 'ea', 'ea', 'ea', 'ea', 'ea', 'ea', 'ea', 'ua', 'ea', 'ea', 'ea', 'ea', 'ie', 'ea', 'ea', 'ea', 'ea', 'ea', 'ea', 'ea', 'oe', 'ie', 'io', 'io', 'ia', 'ia', 'io', 'io', 'ie', 'ie', 'ie', 'ie', 'iou', 'ei', 'ei', 'ou', 'ei', 'ei', 'ei', 'ei', 'io', 'io', 'io', 'oi', 'ie', 'io', 'io', 'io', 'ee', 'ee', 'ou', 'ou', 'ou', 'ou', 'oa', 'ee', 'ee', 'ee', 'ee', 'ou', 'ou', 'ou', 'ai', 'ai', 'ai', 'ia', 'eu', 'ia', 'ua', 'ua', 'ua', 'ua', 'ua', 'ui', 'ui', 'ui', 'ui', 'ie', 'ui', 'ui', 'ui', 'eou', 'ia', 'ou', 'ia', 'io', 'ua', 'ua', 'ua', 'io', 'ua', 'io', 'io', 'io', 'ee', 'ee', 'ee', 'ee', 'ee', 'io', 'io', 'io', 'io', 'io', 'io', 'io', 'au', 'au', 'io', 'io', 'io', 'io', 'ie', 'ie', 'ie', 'ai', 'ai', 'ai', 'ai', 'oi', 'io', 'io', 'ie', 'io', 'io', 'ao', 'ei', 'ia', 'ie', 'ai', 'ai', 'ai', 'ai', 'ai', 'ai', 'ai', 'ai', 'ai', 'ai', 'ai', 'ai', 'ia', 'ia', 'io', 'ie', 'ou', 'io', 'io', 'oo', 'ie', 'au', 'au', 'ea', 'ea', 'ea', 'ea', 'ea', 'ea', 'ea', 'ea', 'ea', 'ee', 'ee', 'ee', 'ee', 'ee', 'ee', 'ee', 'ee', 'ee', 'ie', 'ue', 'eu', 'ie', 'ie', 'ie', 'ie', 'ia', 'ia', 'ia', 'ie', 'oi', 'ea', 'ee', 'ee', 'ie', 'oa', 'oa', 'oo', 'oo', 'oo', 'oo', 'ou', 'ua', 'io', 'ua', 'io', 'ue', 'oa', 'io', 'oo', 'oo', 'oo', 'oo', 'oo', 'oo', 'ei', 'ei', 'ei', 'ei', 'io', 'ou', 'ou', 'ou', 'ou', 'io', 'ou', 'io', 'ou', 'ou', 'ou', 'ou', 'ou', 'ou', 'ou', 'oo', 'ou', 'ea', 'ou', 'ea', 'ou', 'ou', 'ua', 'io', 'io', 'io', 'au', 'ee', 'ee', 'ee', 'ee', 'ee', 'ee', 'ue', 'ue', 'io', 'ie', 'ie', 'ie', 'ie', 'ea', 'ue', 'ue', 'ue', 'ue', 'ea', 'io', 'io', 'ai', 'iou', 'ai', 'ai', 'ai', 'ai', 'iu', 'ie', 'au', 'au', 'au', 'io', 'io', 'io', 'ou', 'ie', 'ui', 'eo', 'eo', 'ou', 'ia', 'ia', 'ie', 'ea', 'oo', 'oa', 'oe', 'oi', 'oo', 'oo', 'ai', 'oo', 'ea', 'oo', 'oo', 'ie', 'oo', 'oo', 'ie', 'ua', 'ua', 'ua', 'ai', 'ai', 'ea', 'ea', 'ea', 'ea', 'ee', 'ee', 'ee', 'ee', 'ai', 'ou', 'ou', 'ou', 'ua', 'ee', 'ua', 'ee', 'ua', 'ee', 'ua', 'ua', 'ia', 'ue', 'ue', 'ue', 'ui', 'ui', 'ui', 'ui', 'ui', 'io', 'ai', 'ai', 'ai', 'ou', 'ie', 'au', 'au', 'au', 'ou', 'ea', 'ea', 'ou', 'ea', 'ea', 'ea', 'ea', 'ea', 'ua', 'ea', 'ea', 'ea', 'ea', 'ea', 'ea', 'ea', 'ea', 'ea', 'ea', 'ea', 'ea', 'ea', 'ea', 'ea', 'ea', 'ea', 'ee', 'ie', 'ee', 'ie', 'ei', 'ei', 'ie', 'ua', 'ee', 'ie', 'ie', 'ua', 'oo', 'oo', 'ou', 'ou', 'ou', 'ou', 'ou', 'ou', 'ou', 'ou', 'ou', 'au', 'ia', 'ea', 'ea', 'ie', 'ie', 'eo', 'io', 'ia', 'ia', 'ai', 'ia', 'ie', 'uou', 'io', 'io', 'io', 'ie', 'ie', 'io', 'ua', 'ua', 'ia', 'au', 'iou', 'io', 'io', 'ea', 'ea', 'ea', 'ea', 'ea', 'ee', 'io', 'io', 'io', 'ua', 'ua', 'ia', 'ia', 'io', 'ia', 'ia', 'ie', 'ie', 'ie', 'iou', 'io', 'io', 'ue', 'ue', 'ue', 'ue', 'ia', 'io', 'io', 'ue', 'io', 'ui', 'ie', 'ia', 'ia', 'ia', 'ia', 'ia', 'ia', 'ia', 'ia', 'ie', 'io', 'ue', 'oe', 'ui', 'ie', 'ui', 'ui', 'iou', 'ua', 'io', 'io', 'ea', 'io', 'io', 'io', 'io', 'io', 'ua', 'ua', 'io', 'io', 'io', 'ea', 'io', 'ia', 'io', 'io', 'io', 'io', 'io', 'ie', 'ie', 'io', 'ao', 'ui', 'io', 'io', 'io', 'ia', 'io', 'ie', 'io', 'io', 'io', 'io', 'ue', 'ue', 'ue', 'ue', 'ue', 'ui', 'ai', 'eo', 'eo', 'oi', 'oi', 'oi', 'oi', 'oi', 'oi', 'oi', 'ou', 'ou', 'ou', 'ia', 'ia', 'au', 'io', 'io', 'ie', 'ee', 'ee', 'ee', 'oa', 'ea', 'iou', 'ai', 'ua', 'ua', 'ou', 'ee', 'ua', 'ou', 'au', 'au', 'au', 'au', 'au', 'au', 'ui', 'ui', 'ea', 'ea', 'ea', 'ea', 'ea', 'ea', 'ea', 'ea', 'ea', 'ea', 'ea', 'ea', 'ea', 'ea', 'ea', 'ea', 'ea', 'ea', 'ea', 'ea', 'ee', 'ee', 'io', 'ea', 'io', 'iou', 'ia', 'ia', 'ie', 'ia', 'ia', 'ieu', 'ieu', 'oo', 'io', 'io', 'ui', 'ui', 'ui', 'ui', 'io', 'ui', 'io', 'oo', 'oa', 'oa', 'oa', 'oa', 'oa', 'oa', 'ie', 'io', 'io', 'oo', 'oo', 'oo', 'ee', 'oo', 'oo', 'oo', 'oo', 'oo', 'oo', 'oo', 'io', 'ou', 'ou', 'ie', 'io', 'ia', 'ie', 'ai', 'ai', 'ai', 'ai', 'ai', 'ai', 'ai', 'ai', 'ai', 'ai', 'ai', 'ai', 'ai', 'ai', 'ea', 'ue', 'io', 'ia', 'ua', 'ie', 'io', 'aa', 'ia', 'ou', 'ia', 'ia', 'ia', 'ia', 'ia', 'ie', 'ea', 'ea', 'ea', 'ea', 'ea', 'ea', 'ea', 'ea', 'ea', 'ea', 'ea', 'ea', 'ea', 'io', 'ia', 'io', 'iu', 'ee', 'ee', 'ee', 'ee', 'iu', 'ie', 'io', 'io', 'io', 'oo', 'ou', 'ea', 'io', 'io', 'ea', 'io', 'ai', 'io', 'ia', 'ea', 'ia', 'io', 'io', 'ie', 'ie', 'oo', 'oo', 'iu', 'ie', 'eo', 'io', 'ou', 'ou', 'ou', 'ou', 'ie', 'ie', 'io', 'io', 'io', 'ie', 'eu', 'eu', 'ua', 'ua', 'ia', 'ai', 'io', 'io', 'io', 'io', 'io', 'io', 'ea', 'ea', 'ea', 'ea', 'ea', 'ea', 'ea', 'ie', 'ee', 'ee', 'ee', 'ee', 'ee', 'ee', 'ia', 'ia', 'ia', 'ia', 'ia', 'io', 'ia', 'ia', 'ei', 'oo', 'ei', 'oo', 'ei', 'ei', 'ei', 'eo', 'ou', 'ou', 'eu', 'oo', 'ee', 'ea', 'io', 'ee', 'ee', 'io', 'iou', 'ia', 'ia', 'oo', 'ie', 'io', 'ea', 'ie', 'ou', 'io', 'ie', 'io', 'io', 'io', 'io', 'io', 'io', 'ai', 'ai', 'ai', 'iou', 'iou', 'io', 'ia', 'ou', 'ea', 'ea', 'ia', 'ia', 'ia', 'oi', 'oi', 'oi', 'io', 'ou', 'ou', 'ou', 'ee', 'ea', 'oi', 'au', 'io', 'io', 'io', 'io', 'io', 'ie', 'io', 'io', 'io', 'ea', 'io', 'io', 'ie', 'ou', 'ou', 'ou', 'ou', 'ou', 'ou', 'ou', 'ou', 'ou', 'ou', 'ou', 'ou', 'ou', 'ou', 'ou', 'oo', 'ou', 'ou', 'ou', 'ou', 'ou', 'eou', 'ou', 'ou', 'ou', 'ou', 'ou', 'ou', 'io', 'ou', 'ea', 'io', 'ea', 'ee', 'ue', 'ai', 'ai', 'ai', 'ai', 'ai', 'ai', 'ai', 'io', 'ia', 'ia', 'ia', 'io', 'ie', 'ee', 'oo', 'io', 'io', 'ie', 'ie', 'ou', 'ea', 'ea', 'ea', 'ea', 'ea', 'ea', 'ea', 'ea', 'ia', 'ia', 'ie', 'ia', 'ia', 'ie', 'io', 'ie', 'io', 'io', 'eo', 'ei', 'ei', 'io', 'io', 'io', 'io', 'io', 'io', 'io', 'ua', 'ua', 'ua', 'ua', 'ua', 'io', 'ua', 'io', 'eu', 'ao', 'eu', 'eu', 'ou', 'ia', 'ia', 'ia', 'ie', 'ie', 'ie', 'io', 'ee', 'ue', 'ai', 'ai', 'ai', 'ou', 'ea', 'ea', 'ea', 'ea', 'oi', 'oi', 'oi', 'oi', 'oi', 'oi', 'ie', 'ia', 'io', 'oo', 'oo', 'oo', 'oo', 'io', 'io', 'io', 'io', 'io', 'io', 'io', 'io', 'io', 'ea', 'ia', 'ia', 'ou', 'ou', 'ou', 'ou', 'ou', 'io', 'ai', 'oo', 'ea', 'iou', 'ie', 'ie', 'iu', 'iu', 'io', 'ie', 'io', 'io', 'ia', 'iou', 'ai', 'iou', 'iou', 'ie', 'io', 'io', 'ea', 'io', 'ia', 'oi', 'ee', 'ee', 'io', 'io', 'io', 'io', 'io', 'io', 'io', 'io', 'oo', 'ie', 'ua', 'io', 'io', 'ie', 'io', 'io', 'io', 'ei', 'ei', 'ei', 'io', 'io', 'ia', 'ia', 'io', 'io', 'io', 'ua', 'ue', 'ue', 'ua', 'ie', 'ua', 'ua', 'ie', 'ua', 'ua', 'ua', 'ie', 'ua', 'ua', 'ua', 'ua', 'ua', 'ua', 'uee', 'ue', 'io', 'ue', 'io', 'ue', 'io', 'ue', 'io', 'ueui', 'ui', 'ui', 'uie', 'uie', 'ui', 'ui', 'ui', 'ui', 'uo', 'uo', 'uo', 'io', 'uo', 'uo', 'uo', 'io', 'io', 'io', 'ioa', 'ai', 'ai', 'ai', 'ai', 'ai', 'oa', 'ai', 'ai', 'ai', 'ai', 'ai', 'ie', 'ie', 'io', 'io', 'ou', 'ea', 'ea', 'ea', 'ea', 'ea', 'ea', 'io', 'ea', 'ea', 'ea', 'ea', 'ea', 'ea', 'ea', 'ea', 'ea', 'ea', 'ea', 'ea', 'io', 'ea', 'ea', 'ea', 'ea', 'ea', 'ea', 'ea', 'ea', 'ea', 'ea', 'ea', 'ea', 'ea', 'ea', 'ea', 'ea', 'ea', 'io', 'ou', 'ou', 'ui', 'ui', 'ei', 'ei', 'ei', 'ei', 'ei', 'ei', 'ei', 'io', 'io', 'io', 'ea', 'ie', 'ai', 'ai', 'io', 'io', 'io', 'ee', 'ou', 'ui', 'ui', 'ui', 'ie', 'ee', 'ee', 'ee', 'io', 'io', 'io', 'ee', 'io', 'io', 'io', 'io', 'io', 'io', 'io', 'ei', 'ei', 'ei', 'ei', 'ei', 'io', 'io', 'io', 'au', 'ea', 'ea', 'ea', 'ia', 'ie', 'ie', 'ie', 'ie', 'ie', 'ai', 'ai', 'ai', 'ai', 'ai', 'io', 'eo', 'eo', 'eo', 'io', 'eo', 'ai', 'ai', 'ai', 'ea', 'ea', 'ie', 'io', 'ue', 'ue', 'ue', 'ue', 'ui', 'ui', 'ui', 'ui', 'ui', 'ui', 'ea', 'ea', 'ea', 'ea', 'io', 'oi', 'ia', 'io', 'ie', 'io', 'ou', 'ie', 'au', 'au', 'ai', 'io', 'io', 'io', 'ai', 'ai', 'ai', 'ai', 'ai', 'ai', 'ai', 'ia', 'ia', 'io', 'io', 'io', 'ue', 'ue', 'ue', 'ie', 'ie', 'ie', 'ee', 'ie', 'ua', 'oa', 'oa', 'oo', 'oo', 'oo', 'oo', 'oo', 'ou', 'ou', 'ou', 'ou', 'ou', 'ou', 'ou', 'ou', 'ou', 'ou', 'ua', 'ai', 'ie', 'io', 'io', 'au', 'oa', 'ie', 'io', 'oo', 'oo', 'oa', 'oo', 'oo', 'oo', 'ea', 'oo', 'oo', 'oo', 'oo', 'oo', 'ea', 'ie', 'ie', 'ie', 'ie', 'oo', 'ea', 'ee', 'ee', 'ee', 'ee', 'ou', 'ou', 'ea', 'oo', 'ea', 'ea', 'ei', 'ea', 'ea', 'ea', 'ea', 'ea', 'ea', 'ea', 'ea', 'io', 'io', 'ie', 'ie', 'ee', 'eei', 'ee', 'ee', 'ee', 'ee', 'ee', 'ee', 'ee', 'ee', 'ei', 'ei', 'ee', 'ua', 'ia', 'ua', 'io', 'io', 'io', 'io', 'ia', 'ie', 'iou', 'iou', 'io', 'io', 'ea', 'ea', 'ea', 'ee', 'ee', 'ee', 'ee', 'oa', 'ui', 'ee', 'oo', 'ou', 'ou', 'oa', 'eou', 'eou', 'ua', 'io', 'ua', 'io', 'ee', 'ee', 'oo', 'oo', 'ea', 'oa', 'oa', 'ia', 'ia', 'ie', 'ia', 'ia', 'ie', 'io', 'ie', 'io', 'ou', 'io', 'eo', 'au', 'oo', 'oo', 'ou', 'ou', 'ou', 'ou', 'ou', 'ou', 'ou', 'ou', 'ou', 'ou', 'ea', 'ea', 'ea', 'ea', 'ia', 'ia', 'ia', 'ia', 'ia', 'ia', 'ia', 'ia', 'ie', 'ie', 'io', 'ee', 'ee', 'ee', 'ee', 'oo', 'oo', 'ie', 'ou', 'ea', 'ea', 'ua', 'ua', 'uee', 'uee', 'iu', 'iu', 'io', 'ai', 'ai', 'oi', 'oi', 'io', 'io', 'ue', 'au', 'ea', 'ea', 'ea', 'ee', 'ee', 'ee', 'ee', 'ee', 'eo', 'eo', 'io', 'io', 'ia', 'oo', 'ai', 'ai', 'ai', 'ie', 'ea', 'ee', 'ee', 'ie', 'ie', 'io', 'iou', 'ee', 'ue', 'oe', 'ae', 'io', 'io', 'ue', 'ia', 'ie', 'ia', 'ia', 'ia', 'io', 'ee', 'ee', 'ee', 'ee', 'io', 'ue', 'ue', 'ie', 'ie', 'ie', 'ui', 'ui', 'ui', 'io', 'iou', 'io', 'io', 'iu', 'ie', 'ie', 'ie', 'io', 'eo', 'iou', 'ou', 'io', 'io', 'ai', 'ea', 'ea', 'ea', 'ea', 'ea', 'ee', 'ee', 'ee', 'ee', 'ee', 'io', 'oi', 'ai', 'ai', 'ai', 'eo', 'eo', 'ie', 'au', 'io', 'ea', 'ea', 'ea', 'ea', 'ea', 'ea', 'ea', 'ea', 'ea', 'ue', 'ue', 'ie', 'ee', 'ee', 'io', 'io', 'io', 'io', 'io', 'oa', 'io', 'ea', 'ei', 'ea', 'eo', 'eo', 'ie', 'ie', 'ua', 'ou', 'ou', 'ou', 'ou', 'ea', 'ea', 'ea', 'ea', 'ea', 'ee', 'ee', 'ee', 'ee', 'ee', 'ua', 'ee', 'ee', 'ea', 'ou', 'ou', 'ou', 'ie', 'ea', 'ie', 'ie', 'ie', 'ue', 'ue', 'ue', 'oa', 'oi', 'oo', 'oo', 'oo', 'oo', 'oo', 'ie', 'ou', 'ou', 'ou', 'ou', 'ou', 'ou', 'ou', 'io', 'io', 'io', 'io', 'ai', 'ai', 'ai', 'ai', 'ai', 'ai', 'ai', 'ai', 'io', 'io', 'io', 'io', 'io', 'ea', 'ea', 'ea', 'ea', 'ea', 'ee', 'ee', 'ou', 'ia', 'ia', 'ie', 'io', 'ia', 'oo', 'oo', 'ou', 'ou', 'ou', 'ou', 'ue', 'uou', 'oi', 'ou', 'ia', 'ie', 'ee', 'ea', 'ea', 'ia', 'ou', 'au', 'ai', 'ea', 'ai', 'ie', 'ai', 'ea', 'ai', 'io', 'oi', 'oo', 'ia', 'ai', 'ai', 'ai', 'ou', 'ea', 'io', 'io', 'ue', 'ie', 'ie', 'ea', 'oa', 'oa', 'ee', 'ia', 'ea', 'ea', 'ea', 'ea', 'ie', 'ai', 'ue', 'ua', 'ua', 'ei', 'ei', 'ea', 'ea', 'ua', 'ua', 'ie', 'io', 'io', 'ue', 'ua', 'ua', 'io', 'ua', 'io', 'ue', 'ue', 'ue', 'ia', 'ia', 'io', 'ie', 'ie', 'iou', 'ea', 'io', 'io', 'oe', 'ia', 'iou', 'eo', 'ie', 'eo', 'ie', 'ie', 'ie', 'ie', 'ie', 'ie', 'oi', 'ie', 'oi', 'ie', 'io', 'io', 'io', 'io', 'io', 'io', 'io', 'io', 'io', 'ua', 'ue', 'ue', 'io', 'io', 'oi', 'oi', 'oi', 'ee', 'ai', 'ai', 'ai', 'ai', 'ai', 'ai', 'ai', 'ai', 'ai', 'ou', 'io', 'ou', 'ou', 'ie', 'au', 'ea', 'ea', 'ea', 'ea', 'ea', 'ea', 'ea', 'ea', 'ea', 'io', 'ea', 'ea', 'ea', 'ee', 'ee', 'ee', 'ie', 'ee', 'ee', 'ei', 'ei', 'ei', 'ei', 'ei', 'ea', 'ee', 'oa', 'ee', 'ue', 'ea', 'ie', 'ou', 'ooi', 'oo', 'ee', 'ie', 'ie', 'ou', 'ou', 'ou', 'oi', 'ea', 'ea', 'ea', 'ea', 'ie', 'ea', 'ea', 'ea', 'ea', 'ea', 'ea', 'ie', 'ie', 'ie', 'ie', 'ou', 'ou', 'ou', 'ou', 'ou', 'ou', 'ou', 'ou', 'iu', 'ai', 'oo']\n"
     ]
    }
   ],
   "source": [
    "practice = [vs for word in wsj for vs in re.findall(r'[aeiou]{2,}',word)]  # type: list\n",
    "print(len(practice))\n",
    "print(practice)"
   ]
  },
  {
   "cell_type": "markdown",
   "metadata": {},
   "source": [
    "#### wsj의 첫째 요소를 word에 넣는다\n",
    "#### word에서 r'[aeiou]{2,}'을 만족시키는 부분을 모두 찾아 만든 list의 요소를 아래 vs에 하나 넣는다.\n",
    "#### 아래 for loop을 통해 vs에 add up해서 다 넣고나면 vs가 하나의 list로 완성되고\n",
    "#### 그 완성된 list가 위vs(최종 list)에 추가되고, 다음 순서(wsj의 둘째 요소)의 for loop을 돈다."
   ]
  },
  {
   "cell_type": "markdown",
   "metadata": {},
   "source": [
    "#### vs for word in wsj for vs in re.findall(r'[aeiou]{2,}',word)이 대괄호로 싸여 있어야 하는데 생략됨.\n",
    "#### FrqDist의 input의 type: list\n",
    "#### 아무생각 없이 모여있는 정보(3405개의 정보, 43가지 종류)에서 가장 많이 언급된 순서대로 정보들을 나열한 list를 보여줘: most_common\n",
    "#### most_common에 길이를 지정하면 list, 지정하지 않으면(그냥 most_common을 쓰면) method"
   ]
  },
  {
   "cell_type": "code",
   "execution_count": 5,
   "metadata": {
    "scrolled": true
   },
   "outputs": [
    {
     "name": "stdout",
     "output_type": "stream",
     "text": [
      "<FreqDist with 43 samples and 3405 outcomes>\n",
      "[('io', 549), ('ea', 476), ('ie', 331), ('ou', 329), ('ai', 261), ('ia', 253), ('ee', 217), ('oo', 174), ('ua', 109), ('au', 106)]\n",
      "<bound method Counter.most_common of FreqDist({'io': 549, 'ea': 476, 'ie': 331, 'ou': 329, 'ai': 261, 'ia': 253, 'ee': 217, 'oo': 174, 'ua': 109, 'au': 106, ...})>\n"
     ]
    }
   ],
   "source": [
    "fdist = nltk.FreqDist(vs for word in wsj for vs in re.findall(r'[aeiou]{2,}',word))\n",
    "print(fdist)\n",
    "print(fdist.most_common(10))\n",
    "print(fdist.most_common)"
   ]
  },
  {
   "cell_type": "code",
   "execution_count": 13,
   "metadata": {},
   "outputs": [
    {
     "name": "stdout",
     "output_type": "stream",
     "text": [
      "<class 'list'>\n",
      "<class 'method'>\n"
     ]
    }
   ],
   "source": [
    "print(type(fdist.most_common(10)))\n",
    "print(type(fdist.most_common))"
   ]
  },
  {
   "cell_type": "code",
   "execution_count": 16,
   "metadata": {},
   "outputs": [],
   "source": [
    "word = 'supercalifragilisticexpialidocious'"
   ]
  },
  {
   "cell_type": "code",
   "execution_count": null,
   "metadata": {},
   "outputs": [],
   "source": [
    "#### 모음 찾아라\n",
    "#### 모음 중 가장 많이 출현하는 것은? -해봐!"
   ]
  },
  {
   "cell_type": "code",
   "execution_count": 17,
   "metadata": {},
   "outputs": [
    {
     "name": "stdout",
     "output_type": "stream",
     "text": [
      "['u', 'e', 'a', 'i', 'a', 'i', 'i', 'i', 'e', 'i', 'a', 'i', 'o', 'i', 'o', 'u']\n"
     ]
    }
   ],
   "source": [
    "result = re.findall(r'[aeiou]', word)\n",
    "print(result)"
   ]
  },
  {
   "cell_type": "code",
   "execution_count": 18,
   "metadata": {},
   "outputs": [
    {
     "name": "stdout",
     "output_type": "stream",
     "text": [
      "['rc', 'fr', 'st', 'xp', 'ci']\n"
     ]
    }
   ],
   "source": [
    "result = re.findall('[aeiou](..)[aeiou]', word)\n",
    "print(result)"
   ]
  },
  {
   "cell_type": "code",
   "execution_count": 19,
   "metadata": {},
   "outputs": [
    {
     "name": "stdout",
     "output_type": "stream",
     "text": [
      "['supercalifragilisticexpialidocious']\n"
     ]
    }
   ],
   "source": [
    "result = re.findall('[^aeiou].+[^aeiou]', word)\n",
    "print(result)"
   ]
  },
  {
   "cell_type": "code",
   "execution_count": 20,
   "metadata": {},
   "outputs": [
    {
     "name": "stdout",
     "output_type": "stream",
     "text": [
      "['sup', 'rcal', 'frag', 'lis', 'tic', 'xpial', 'doc']\n"
     ]
    }
   ],
   "source": [
    "result = re.findall('[^aeiou].+?[^aeiou]', word)\n",
    "print(result)"
   ]
  },
  {
   "cell_type": "code",
   "execution_count": 21,
   "metadata": {},
   "outputs": [
    {
     "data": {
      "text/plain": [
       "[('io', 549),\n",
       " ('ea', 476),\n",
       " ('ie', 331),\n",
       " ('ou', 329),\n",
       " ('ai', 261),\n",
       " ('ia', 253),\n",
       " ('ee', 217),\n",
       " ('oo', 174),\n",
       " ('ua', 109),\n",
       " ('au', 106)]"
      ]
     },
     "execution_count": 21,
     "metadata": {},
     "output_type": "execute_result"
    }
   ],
   "source": [
    "wsj = sorted(set(nltk.corpus.treebank.words()))\n",
    "fdist = nltk.FreqDist(vs for word in wsj for vs in re.findall(r'[aeiou]{2,}', word))\n",
    "fdist.most_common(10)"
   ]
  },
  {
   "cell_type": "code",
   "execution_count": 22,
   "metadata": {},
   "outputs": [
    {
     "name": "stdout",
     "output_type": "stream",
     "text": [
      "Unvrsl Dclrtn of Hmn Rghts Prmble Whrs rcgntn of the inhrnt dgnty and\n",
      "of the eql and inlnble rghts of all mmbrs of the hmn fmly is the fndtn\n",
      "of frdm , jstce and pce in the wrld , Whrs dsrgrd and cntmpt fr hmn\n",
      "rghts hve rsltd in brbrs acts whch hve outrgd the cnscnce of mnknd ,\n",
      "and the advnt of a wrld in whch hmn bngs shll enjy frdm of spch and\n"
     ]
    }
   ],
   "source": [
    "regexp = r'^[AEIOUaeiou]+|[AEIOUaeiou]+$|[^AEIOUaeiou]'\n",
    "def compress(word):\n",
    "    pieces = re.findall(regexp, word)\n",
    "    return ''.join(pieces)\n",
    "\n",
    "english_udhr = nltk.corpus.udhr.words('English-Latin1')\n",
    "print(nltk.tokenwrap(compress(w) for w in english_udhr[:75]))\n"
   ]
  },
  {
   "cell_type": "code",
   "execution_count": 23,
   "metadata": {},
   "outputs": [
    {
     "name": "stdout",
     "output_type": "stream",
     "text": [
      "    a   e   i   o   u \n",
      "k 418 148  94 420 173 \n",
      "p  83  31 105  34  51 \n",
      "r 187  63  84  89  79 \n",
      "s   0   0 100   2   1 \n",
      "t  47   8   0 148  37 \n",
      "v  93  27 105  48  49 \n"
     ]
    }
   ],
   "source": [
    "rotokas_words = nltk.corpus.toolbox.words('rotokas.dic')\n",
    "cvs = [cv for w in rotokas_words for cv in re.findall(r'[ptksvr][aeiou]', w)]\n",
    "cfd = nltk.ConditionalFreqDist(cvs) # CFD works pairwise only\n",
    "cfd.tabulate()"
   ]
  },
  {
   "cell_type": "code",
   "execution_count": 24,
   "metadata": {
    "collapsed": true
   },
   "outputs": [
    {
     "data": {
      "text/plain": [
       "['kaapo',\n",
       " 'kaapopato',\n",
       " 'kaipori',\n",
       " 'kaiporipie',\n",
       " 'kaiporivira',\n",
       " 'kapo',\n",
       " 'kapoa',\n",
       " 'kapokao',\n",
       " 'kapokapo',\n",
       " 'kapokapo',\n",
       " 'kapokapoa',\n",
       " 'kapokapoa',\n",
       " 'kapokapora',\n",
       " 'kapokapora',\n",
       " 'kapokaporo',\n",
       " 'kapokaporo',\n",
       " 'kapokari',\n",
       " 'kapokarito',\n",
       " 'kapokoa',\n",
       " 'kapoo',\n",
       " 'kapooto',\n",
       " 'kapoovira',\n",
       " 'kapopaa',\n",
       " 'kaporo',\n",
       " 'kaporo',\n",
       " 'kaporopa',\n",
       " 'kaporoto',\n",
       " 'kapoto',\n",
       " 'karokaropo',\n",
       " 'karopo',\n",
       " 'kepo',\n",
       " 'kepoi',\n",
       " 'keposi',\n",
       " 'kepoto']"
      ]
     },
     "execution_count": 24,
     "metadata": {},
     "output_type": "execute_result"
    }
   ],
   "source": [
    "cv_word_pairs = [(cv, w) for w in rotokas_words for cv in re.findall(r'[ptksvr][aeiou]', w)]\n",
    "cv_index = nltk.Index(cv_word_pairs)\n",
    "cv_index['po']"
   ]
  },
  {
   "cell_type": "code",
   "execution_count": 36,
   "metadata": {},
   "outputs": [
    {
     "data": {
      "text/plain": [
       "['a', 'b', 'c', 'd']"
      ]
     },
     "execution_count": 36,
     "metadata": {},
     "output_type": "execute_result"
    }
   ],
   "source": [
    "A = ['a','b']\n",
    "B = ['c','d']\n",
    "A+B\n",
    "# [A,B]"
   ]
  },
  {
   "cell_type": "code",
   "execution_count": null,
   "metadata": {},
   "outputs": [],
   "source": []
  }
 ],
 "metadata": {
  "kernelspec": {
   "display_name": "Python 3",
   "language": "python",
   "name": "python3"
  },
  "language_info": {
   "codemirror_mode": {
    "name": "ipython",
    "version": 3
   },
   "file_extension": ".py",
   "mimetype": "text/x-python",
   "name": "python",
   "nbconvert_exporter": "python",
   "pygments_lexer": "ipython3",
   "version": "3.7.1"
  }
 },
 "nbformat": 4,
 "nbformat_minor": 1
}
