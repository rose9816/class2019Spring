{
 "cells": [
  {
   "cell_type": "markdown",
   "metadata": {},
   "source": [
    "#### a에 list 변수 정의\n",
    "#### for 뒤에는 :을 쓴다\n",
    "#### a에 있는  element를 i에 넣어서 반복한다.(indentation된 부분까지)\n",
    "#### 예상 답: 1 2 3 4"
   ]
  },
  {
   "cell_type": "code",
   "execution_count": 17,
   "metadata": {
    "scrolled": true
   },
   "outputs": [
    {
     "name": "stdout",
     "output_type": "stream",
     "text": [
      "1\n",
      "2\n",
      "3\n",
      "4\n"
     ]
    }
   ],
   "source": [
    "a = [1, 2, 3, 4]\n",
    "for i in a:\n",
    "    print(i)"
   ]
  },
  {
   "cell_type": "markdown",
   "metadata": {},
   "source": [
    "#### list 변수인 a의 길이(=element의 갯수)\n",
    "#### 예상 답: 4"
   ]
  },
  {
   "cell_type": "code",
   "execution_count": 19,
   "metadata": {},
   "outputs": [
    {
     "data": {
      "text/plain": [
       "4"
      ]
     },
     "execution_count": 19,
     "metadata": {},
     "output_type": "execute_result"
    }
   ],
   "source": [
    "len(a)"
   ]
  },
  {
   "cell_type": "markdown",
   "metadata": {},
   "source": [
    "## range(n) == range(0, n) -> 0,1,2, .... , (n-1)\n",
    "#### 예상 답: range(0, 4)"
   ]
  },
  {
   "cell_type": "code",
   "execution_count": 20,
   "metadata": {},
   "outputs": [
    {
     "data": {
      "text/plain": [
       "range(0, 4)"
      ]
     },
     "execution_count": 20,
     "metadata": {},
     "output_type": "execute_result"
    }
   ],
   "source": [
    "range(4)"
   ]
  },
  {
   "cell_type": "markdown",
   "metadata": {},
   "source": [
    "#### range(len(a)) == range(4)\n",
    "#### i=0로 첫째 바퀴 -> 0+1, i=1로 둘째 바퀴 -> 1+1, i=2로 셋째 바퀴 -> 2+1, i=3로 넷째 바퀴 -> 3+1\n",
    "#### 예상 답: 1 2 3 4"
   ]
  },
  {
   "cell_type": "code",
   "execution_count": 22,
   "metadata": {},
   "outputs": [
    {
     "name": "stdout",
     "output_type": "stream",
     "text": [
      "1\n",
      "2\n",
      "3\n",
      "4\n"
     ]
    }
   ],
   "source": [
    "a = [1, 2, 3, 4]\n",
    "for i in range(len(a)):\n",
    "    print(i+1)"
   ]
  },
  {
   "cell_type": "markdown",
   "metadata": {},
   "source": [
    "#### range(len(a)) == range(4)\n",
    "#### i=0로 첫째 바퀴 -> 0, i=1로 둘째 바퀴 -> 1, i=2로 셋째 바퀴 -> 2, i=3로 넷째 바퀴 -> 3\n",
    "#### 예상 답: 0 1 2 3"
   ]
  },
  {
   "cell_type": "code",
   "execution_count": 23,
   "metadata": {},
   "outputs": [
    {
     "name": "stdout",
     "output_type": "stream",
     "text": [
      "0\n",
      "1\n",
      "2\n",
      "3\n"
     ]
    }
   ],
   "source": [
    "a = [1, 2, 3, 4]\n",
    "for i in range(len(a)):\n",
    "    print(i)"
   ]
  },
  {
   "cell_type": "markdown",
   "metadata": {},
   "source": [
    "#### range(len(a)) == range(4)\n",
    "#### i=0로 첫째 바퀴 -> a[0], i=1로 둘째 바퀴 -> a[1], i=2로 셋째 바퀴 -> a[2], i=3로 넷째 바퀴 -> a[3]\n",
    "#### 예상 답: 1 2 3 4"
   ]
  },
  {
   "cell_type": "code",
   "execution_count": 25,
   "metadata": {},
   "outputs": [
    {
     "name": "stdout",
     "output_type": "stream",
     "text": [
      "1\n",
      "2\n",
      "3\n",
      "4\n"
     ]
    }
   ],
   "source": [
    "a = [1, 2, 3, 4]\n",
    "for i in range(len(a)):\n",
    "    print(a[i])"
   ]
  },
  {
   "cell_type": "markdown",
   "metadata": {},
   "source": [
    "#### 반복되는 변수가 반드시 숫자일 필요는 없다. string도 가능\n",
    "#### i='red'로 첫째 바퀴, i='green'로 둘째 바퀴, i='blue'로 셋째 바퀴, i='purple'로 넷째 바퀴\n",
    "#### 예상 답: red green blue purple\n",
    "### 교훈: string이 print될 때는 code내에서 string임을 표시하기 위한 ' '가 생략된 채로 print된다."
   ]
  },
  {
   "cell_type": "code",
   "execution_count": 27,
   "metadata": {},
   "outputs": [
    {
     "name": "stdout",
     "output_type": "stream",
     "text": [
      "red\n",
      "green\n",
      "blue\n",
      "purple\n"
     ]
    }
   ],
   "source": [
    "a = ['red', 'green', 'blue', 'purple']\n",
    "for i in a:\n",
    "    print(i)"
   ]
  },
  {
   "cell_type": "markdown",
   "metadata": {},
   "source": [
    "#### range(len(a)) == range(4)\n",
    "#### i=0로 첫째 바퀴 -> a[0] -> 'red', i=1로 둘째 바퀴 -> a[1] -> 'green', i=2로 셋째 바퀴 a[2] -> 'blue', i=3로 넷째 바퀴 a[3] -> 'purple'\n",
    "#### 예상 답: red green blue purple"
   ]
  },
  {
   "cell_type": "code",
   "execution_count": 30,
   "metadata": {},
   "outputs": [
    {
     "name": "stdout",
     "output_type": "stream",
     "text": [
      "red\n",
      "green\n",
      "blue\n",
      "purple\n"
     ]
    }
   ],
   "source": [
    "a = ['red', 'green', 'blue', 'purple']\n",
    "for i in range(len(a)):\n",
    "    print(a[i])"
   ]
  },
  {
   "cell_type": "markdown",
   "metadata": {},
   "source": [
    "#### for와 i 사이에 i와 a가 있으면 for 루프를 돌 때 i와 a가 루프 안에 들어간다\n",
    "## enumerate(a) -> n번 째 for루프 속 a: a[n-1]***, n번 째 for 루프 속 i: n-1\n",
    "## for \"n-1\", \"a[n-1]\" in enumerate\n",
    "\n",
    "##### 1째 for 루프: i = 1-1, a = a[1-1] -> a[0] -> 'red'  ==>  'red': b[0]*100 -> 'red': 0.2 * 100\n",
    "##### 2째 for 루프: i = 2-1, a = a[2-1] -> a[1] -> 'green'  ==>  'green': b[1]*100 -> 'green': 0.3 * 100\n",
    "##### 3째 for 루프: i = 3-1, a = a[3-1] -> a[2] -> 'blue'  ==>  'blue': b[2]*100 -> 'blue': 0.1 * 100\n",
    "##### 4째 for 루프: i = 4-1, a = a[4-1] -> a[3] -> 'purple'  ==>  'purple': b[3]*100 -> 'purple': 0.3 * 100"
   ]
  },
  {
   "cell_type": "code",
   "execution_count": 39,
   "metadata": {},
   "outputs": [
    {
     "name": "stdout",
     "output_type": "stream",
     "text": [
      "red: 20.0%\n",
      "green: 30.0%\n",
      "blue: 10.0%\n",
      "purple: 40.0%\n"
     ]
    }
   ],
   "source": [
    "a = [\"red\", \"green\", \"blue\", \"purple\"]\n",
    "b = [0.2, 0.3, 0.1, 0.4]\n",
    "for i, a in enumerate(a):\n",
    "    print(\"{}: {}%\".format(a, b[i]*100))"
   ]
  },
  {
   "cell_type": "markdown",
   "metadata": {},
   "source": [
    "### 교훈: a와 i의 type이 다르므로 둘의 순서를 바꿔서 for와 i 사이에 입력하면 안된다."
   ]
  },
  {
   "cell_type": "code",
   "execution_count": 35,
   "metadata": {},
   "outputs": [
    {
     "ename": "TypeError",
     "evalue": "list indices must be integers or slices, not str",
     "output_type": "error",
     "traceback": [
      "\u001b[1;31m---------------------------------------------------------------------------\u001b[0m",
      "\u001b[1;31mTypeError\u001b[0m                                 Traceback (most recent call last)",
      "\u001b[1;32m<ipython-input-35-4b11793facf6>\u001b[0m in \u001b[0;36m<module>\u001b[1;34m\u001b[0m\n\u001b[0;32m      2\u001b[0m \u001b[0mb\u001b[0m \u001b[1;33m=\u001b[0m \u001b[1;33m[\u001b[0m\u001b[1;36m0.2\u001b[0m\u001b[1;33m,\u001b[0m \u001b[1;36m0.3\u001b[0m\u001b[1;33m,\u001b[0m \u001b[1;36m0.1\u001b[0m\u001b[1;33m,\u001b[0m \u001b[1;36m0.4\u001b[0m\u001b[1;33m]\u001b[0m\u001b[1;33m\u001b[0m\u001b[1;33m\u001b[0m\u001b[0m\n\u001b[0;32m      3\u001b[0m \u001b[1;32mfor\u001b[0m \u001b[0ma\u001b[0m\u001b[1;33m,\u001b[0m \u001b[0mi\u001b[0m \u001b[1;32min\u001b[0m \u001b[0menumerate\u001b[0m\u001b[1;33m(\u001b[0m\u001b[0ma\u001b[0m\u001b[1;33m)\u001b[0m\u001b[1;33m:\u001b[0m\u001b[1;33m\u001b[0m\u001b[1;33m\u001b[0m\u001b[0m\n\u001b[1;32m----> 4\u001b[1;33m     \u001b[0mprint\u001b[0m\u001b[1;33m(\u001b[0m\u001b[1;34m\"{}: {}%\"\u001b[0m\u001b[1;33m.\u001b[0m\u001b[0mformat\u001b[0m\u001b[1;33m(\u001b[0m\u001b[0ma\u001b[0m\u001b[1;33m,\u001b[0m \u001b[0mb\u001b[0m\u001b[1;33m[\u001b[0m\u001b[0mi\u001b[0m\u001b[1;33m]\u001b[0m\u001b[1;33m*\u001b[0m\u001b[1;36m100\u001b[0m\u001b[1;33m)\u001b[0m\u001b[1;33m)\u001b[0m\u001b[1;33m\u001b[0m\u001b[1;33m\u001b[0m\u001b[0m\n\u001b[0m",
      "\u001b[1;31mTypeError\u001b[0m: list indices must be integers or slices, not str"
     ]
    }
   ],
   "source": [
    "a = [\"red\", \"green\", \"blue\", \"purple\"]\n",
    "b = [0.2, 0.3, 0.1, 0.4]\n",
    "for a, i in enumerate(a):\n",
    "    print(\"{}: {}%\".format(a, b[i]*100))"
   ]
  },
  {
   "cell_type": "markdown",
   "metadata": {},
   "source": [
    "### i 대신 다른 이름의 변수가 들어가도 상관 없다 (여기서는 i 대신 x를 입력함)"
   ]
  },
  {
   "cell_type": "code",
   "execution_count": 37,
   "metadata": {
    "scrolled": true
   },
   "outputs": [
    {
     "name": "stdout",
     "output_type": "stream",
     "text": [
      "red: 20.0%\n",
      "green: 30.0%\n",
      "blue: 10.0%\n",
      "purple: 40.0%\n"
     ]
    }
   ],
   "source": [
    "a = [\"red\", \"green\", \"blue\", \"purple\"]\n",
    "b = [0.2, 0.3, 0.1, 0.4]\n",
    "for x, a in enumerate(a):\n",
    "    print(\"{}: {}%\".format(a, b[x]*100))"
   ]
  },
  {
   "cell_type": "markdown",
   "metadata": {},
   "source": [
    "##### 1째 for 루프: x = 1-1, b = a[1-1] -> a[0] -> 'red' (b = [0.2, 0.3, 0.1, 0.4]라는 정보가 사라짐)\n",
    "##### ==>  'red': b[0](==red의 첫 글자(r))*100 -> 'red': r 여러번 \n",
    "##### 2째 for 루프: x = 2-1, b = a[2-1] -> a[1] -> 'green' (첫째 루프의 b = a[0]라는 정보가 사라짐)\n",
    "##### ==>  'green': b[1](==green의 둘째 글자(r))*100 -> 'green': r 여러번\n",
    "##### 3째 for 루프: x = 3-1, b = a[3-1] -> a[2] -> 'blue' (둘째 루프의 b = a[1]라는 정보가 사라짐)\n",
    "##### ==>  'blue': b[2](==blue의 셋째 글자(u))*100 -> 'blue': u 여러번\n",
    "##### 4째 for 루프: x = 4-1, b = a[4-1] -> a[3] -> 'purple' (셋째 루프의 b = a[2]라는 정보가 사라짐)\n",
    "##### ==>  'purple': b[3](==purple의 넷째 글자(p))*100 -> 'purple': p 여러번\n",
    "#### string에 100을 곱했을 때 그 string이 100번 입력되는 것 같진 않다."
   ]
  },
  {
   "cell_type": "code",
   "execution_count": 40,
   "metadata": {},
   "outputs": [
    {
     "name": "stdout",
     "output_type": "stream",
     "text": [
      "red: rrrrrrrrrrrrrrrrrrrrrrrrrrrrrrrrrrrrrrrrrrrrrrrrrrrrrrrrrrrrrrrrrrrrrrrrrrrrrrrrrrrrrrrrrrrrrrrrrrrr%\n",
      "green: rrrrrrrrrrrrrrrrrrrrrrrrrrrrrrrrrrrrrrrrrrrrrrrrrrrrrrrrrrrrrrrrrrrrrrrrrrrrrrrrrrrrrrrrrrrrrrrrrrrr%\n",
      "blue: uuuuuuuuuuuuuuuuuuuuuuuuuuuuuuuuuuuuuuuuuuuuuuuuuuuuuuuuuuuuuuuuuuuuuuuuuuuuuuuuuuuuuuuuuuuuuuuuuuuu%\n",
      "purple: pppppppppppppppppppppppppppppppppppppppppppppppppppppppppppppppppppppppppppppppppppppppppppppppppppp%\n"
     ]
    }
   ],
   "source": [
    "a = [\"red\", \"green\", \"blue\", \"purple\"]\n",
    "b = [0.2, 0.3, 0.1, 0.4]\n",
    "for x, b in enumerate(a):\n",
    "    print(\"{}: {}%\".format(b, b[x]*100))"
   ]
  },
  {
   "cell_type": "markdown",
   "metadata": {},
   "source": [
    "#### a 대신 다른 이름의 변수가 들어가도 상관 없다."
   ]
  },
  {
   "cell_type": "code",
   "execution_count": 41,
   "metadata": {},
   "outputs": [
    {
     "name": "stdout",
     "output_type": "stream",
     "text": [
      "50: 20.0%\n",
      "12: 30.0%\n",
      "33: 10.0%\n",
      "45: 40.0%\n"
     ]
    }
   ],
   "source": [
    "a = [50, 12, 33, 45]\n",
    "b = [0.2, 0.3, 0.1, 0.4]\n",
    "for i, c in enumerate(a):\n",
    "    print(\"{}: {}%\".format(c, b[i]*100))"
   ]
  },
  {
   "cell_type": "markdown",
   "metadata": {},
   "source": [
    "#### 꼭 format을 써주자."
   ]
  },
  {
   "cell_type": "code",
   "execution_count": 43,
   "metadata": {},
   "outputs": [
    {
     "name": "stdout",
     "output_type": "stream",
     "text": [
      "{}: {}%\n",
      "{}: {}%\n",
      "{}: {}%\n",
      "{}: {}%\n"
     ]
    }
   ],
   "source": [
    "a = [\"red\", \"green\", \"blue\", \"purple\"]\n",
    "b = [0.2, 0.3, 0.1, 0.4]\n",
    "for i, a in enumerate(a):\n",
    "    print(\"{}: {}%\")"
   ]
  },
  {
   "cell_type": "markdown",
   "metadata": {},
   "source": [
    "#### i에는 string이 들어가 있으므로 b[i]가 틀림"
   ]
  },
  {
   "cell_type": "code",
   "execution_count": 45,
   "metadata": {},
   "outputs": [
    {
     "ename": "TypeError",
     "evalue": "list indices must be integers or slices, not str",
     "output_type": "error",
     "traceback": [
      "\u001b[1;31m---------------------------------------------------------------------------\u001b[0m",
      "\u001b[1;31mTypeError\u001b[0m                                 Traceback (most recent call last)",
      "\u001b[1;32m<ipython-input-45-039ea8434037>\u001b[0m in \u001b[0;36m<module>\u001b[1;34m\u001b[0m\n\u001b[0;32m      2\u001b[0m \u001b[0mb\u001b[0m \u001b[1;33m=\u001b[0m \u001b[1;33m[\u001b[0m\u001b[1;36m0.2\u001b[0m\u001b[1;33m,\u001b[0m \u001b[1;36m0.3\u001b[0m\u001b[1;33m,\u001b[0m \u001b[1;36m0.1\u001b[0m\u001b[1;33m,\u001b[0m \u001b[1;36m0.4\u001b[0m\u001b[1;33m]\u001b[0m\u001b[1;33m\u001b[0m\u001b[1;33m\u001b[0m\u001b[0m\n\u001b[0;32m      3\u001b[0m \u001b[1;32mfor\u001b[0m \u001b[0mi\u001b[0m \u001b[1;32min\u001b[0m \u001b[0ma\u001b[0m\u001b[1;33m:\u001b[0m\u001b[1;33m\u001b[0m\u001b[1;33m\u001b[0m\u001b[0m\n\u001b[1;32m----> 4\u001b[1;33m     \u001b[0mprint\u001b[0m\u001b[1;33m(\u001b[0m\u001b[1;34m\"{}: {}%\"\u001b[0m\u001b[1;33m.\u001b[0m\u001b[0mformat\u001b[0m\u001b[1;33m(\u001b[0m\u001b[0ma\u001b[0m\u001b[1;33m,\u001b[0m \u001b[0mb\u001b[0m\u001b[1;33m[\u001b[0m\u001b[0mi\u001b[0m\u001b[1;33m]\u001b[0m\u001b[1;33m*\u001b[0m\u001b[1;36m100\u001b[0m\u001b[1;33m)\u001b[0m\u001b[1;33m)\u001b[0m\u001b[1;33m\u001b[0m\u001b[1;33m\u001b[0m\u001b[0m\n\u001b[0m",
      "\u001b[1;31mTypeError\u001b[0m: list indices must be integers or slices, not str"
     ]
    }
   ],
   "source": [
    "a = [\"red\", \"green\", \"blue\", \"purple\"]\n",
    "b = [0.2, 0.3, 0.1, 0.4]\n",
    "for i in a:\n",
    "    print(\"{}: {}%\".format(a, b[i]*100))"
   ]
  },
  {
   "cell_type": "markdown",
   "metadata": {},
   "source": [
    "### 교훈: list 째로 string이 print될 때는 string의 '   '가 표시됨."
   ]
  },
  {
   "cell_type": "code",
   "execution_count": 47,
   "metadata": {},
   "outputs": [
    {
     "name": "stdout",
     "output_type": "stream",
     "text": [
      "['red', 'green', 'blue', 'purple']\n",
      "['red', 'green', 'blue', 'purple']\n",
      "['red', 'green', 'blue', 'purple']\n",
      "['red', 'green', 'blue', 'purple']\n"
     ]
    }
   ],
   "source": [
    "a = [\"red\", \"green\", \"blue\", \"purple\"]\n",
    "b = [0.2, 0.3, 0.1, 0.4]\n",
    "for i in a:\n",
    "    print(a)"
   ]
  },
  {
   "cell_type": "markdown",
   "metadata": {},
   "source": [
    "## zip( , ) -> 2개의 list의 element가 for 루프 안에 들어간다.\n",
    "### for 루프에 들어갈 변수(각 list의 element)의 순서와 zip 내의 list의 순서는 같아야 한다.\n",
    "#### 예상 답: red: 20.0%   green: 30.0%   blue: 10.0%   purple: 40.0%"
   ]
  },
  {
   "cell_type": "code",
   "execution_count": 2,
   "metadata": {},
   "outputs": [
    {
     "name": "stdout",
     "output_type": "stream",
     "text": [
      "red: 20.0%\n",
      "green: 30.0%\n",
      "blue: 10.0%\n",
      "purple: 40.0%\n"
     ]
    }
   ],
   "source": [
    "a = [\"red\", \"green\", \"blue\", \"purple\"]\n",
    "b = [0.2, 0.3, 0.1, 0.4]\n",
    "for a_, b_ in zip(a, b):\n",
    "    print(\"{}: {}%\".format(a_, b_*100))\n"
   ]
  },
  {
   "cell_type": "markdown",
   "metadata": {},
   "source": [
    "### 교훈: zip( , , , .....) -> 2개보다 많은 list를 for 루프 안에 넣을 수 있다."
   ]
  },
  {
   "cell_type": "code",
   "execution_count": 4,
   "metadata": {},
   "outputs": [
    {
     "name": "stdout",
     "output_type": "stream",
     "text": [
      "red: 20.0% : 3rd\n",
      "green: 30.0% : 2nd\n",
      "blue: 10.0% : 4th\n",
      "purple: 40.0% : 1st\n"
     ]
    }
   ],
   "source": [
    "a = [\"red\", \"green\", \"blue\", \"purple\"]\n",
    "b = [0.2, 0.3, 0.1, 0.4]\n",
    "c = [\"3rd\", \"2nd\", \"4th\", \"1st\"]\n",
    "for a_, b_, c_ in zip(a, b, c):\n",
    "    print(\"{}: {}% : {}\".format(a_, b_*100, c_))\n"
   ]
  },
  {
   "cell_type": "markdown",
   "metadata": {},
   "source": [
    "#### ==: 수학적인 equal\n",
    "## if와 else 각각에 콜론 필수"
   ]
  },
  {
   "cell_type": "code",
   "execution_count": 6,
   "metadata": {},
   "outputs": [
    {
     "name": "stdout",
     "output_type": "stream",
     "text": [
      "0\n"
     ]
    }
   ],
   "source": [
    "a = 0\n",
    "if a == 0:\n",
    "    print(a)\n",
    "else:\n",
    "     print(a+1)"
   ]
  },
  {
   "cell_type": "markdown",
   "metadata": {},
   "source": [
    "## range(a, a+n) -> a, a+1, a+2, ... a+(n-1)\n",
    "#### for 루프의 범위는 indentation으로 표시\n",
    "##### 큰 for 루프 1째: i==1 때\n",
    "##### ==> 1 * 3        1 * 4\n",
    "##### 큰 for 루프 2째: i==2 때\n",
    "##### ==> 2 * 3        2 * 4\n",
    "##### 예상 답: 3  4  6  8"
   ]
  },
  {
   "cell_type": "code",
   "execution_count": 7,
   "metadata": {},
   "outputs": [
    {
     "name": "stdout",
     "output_type": "stream",
     "text": [
      "3\n",
      "4\n",
      "6\n",
      "8\n"
     ]
    }
   ],
   "source": [
    "for i in range(1, 3):\n",
    "    for j in range(3, 5):\n",
    "        print(i*j)"
   ]
  },
  {
   "cell_type": "markdown",
   "metadata": {},
   "source": [
    "#### 큰 for 루프 1째: i==1\n",
    "#### ==> j==3 -> if문 불충족 -> 아무 일어나지 않음. j==4 -> if문 충족 -> 1 * 4\n",
    "#### 큰 for 루프 1째: i==2\n",
    "#### ==> j==3 -> if문 불충족 -> 아무 일어나지 않음. j==4 -> if문 충족 -> 2 * 4\n",
    "#### 예상 답: 4   8"
   ]
  },
  {
   "cell_type": "code",
   "execution_count": 9,
   "metadata": {},
   "outputs": [
    {
     "name": "stdout",
     "output_type": "stream",
     "text": [
      "4\n",
      "8\n"
     ]
    }
   ],
   "source": [
    "for i in range(1, 3):\n",
    "    for j in range(3, 5):\n",
    "        if j >=4:\n",
    "            print(i*j)"
   ]
  },
  {
   "cell_type": "markdown",
   "metadata": {},
   "source": []
  },
  {
   "cell_type": "markdown",
   "metadata": {},
   "source": [
    "### [i(for루프로 입력되는 b의 element) {for i in a} if i(위에서 정의된 a의 element) >=2]\n",
    "#### for 루프 1째: i==1 -> if문 불충족 -> i가 b의 element로 입력되지 않음.\n",
    "#### for 루프 2째: i==2 -> if문 충족 -> i가 b의 element로 입력되지 않음.\n",
    "#### for 루프 3째: i==3 -> if문 충족 -> i가 b의 element로 입력되지 않음.\n",
    "#### for 루프 4째: i==4 -> if문 충족 -> i가 b의 element로 입력되지 않음.\n",
    "#### 예상 답: [2, 3, 4]"
   ]
  },
  {
   "cell_type": "code",
   "execution_count": 10,
   "metadata": {},
   "outputs": [
    {
     "data": {
      "text/plain": [
       "[2, 3, 4]"
      ]
     },
     "execution_count": 10,
     "metadata": {},
     "output_type": "execute_result"
    }
   ],
   "source": [
    "a = [1, 2, 3, 4]\n",
    "b = [i for i in a if i >=2]\n",
    "b"
   ]
  },
  {
   "cell_type": "markdown",
   "metadata": {},
   "source": []
  },
  {
   "cell_type": "markdown",
   "metadata": {},
   "source": [
    "### [i(for루프로 입력되는 b의 element) {for i in a} if len(i)(a의 element의 길이) >=4]\n",
    "#### for 루프 첫째: i==red -> len(i)==3 -> if문 불충족 -> red는 b의 element로 입력되지 않음.\n",
    "#### for 루프 둘째: i==green -> len(i)==5 -> if문 충족 -> green는 b의 element로 입력됨.\n",
    "#### for 루프 셋째: i==blue -> len(i)==4 -> if문 충족 -> blue는 b의 element로 입력됨.\n",
    "#### for 루프 넷째: i==purple -> len(i)==6 -> if문 충족 -> purple는 b의 element로 입력됨.\n",
    "#### 예상답: [green, blue, purple]"
   ]
  },
  {
   "cell_type": "markdown",
   "metadata": {},
   "source": [
    "## 교훈: list 속의 element가 string일 때 list를 print하면 string 표시를 위한 '   '가 표시된다."
   ]
  },
  {
   "cell_type": "code",
   "execution_count": 11,
   "metadata": {},
   "outputs": [
    {
     "data": {
      "text/plain": [
       "['green', 'blue', 'purple']"
      ]
     },
     "execution_count": 11,
     "metadata": {},
     "output_type": "execute_result"
    }
   ],
   "source": [
    "a = ['red', 'green', 'blue', 'purple']\n",
    "b = [i for i in a if len(i) >=4]\n",
    "b"
   ]
  },
  {
   "cell_type": "markdown",
   "metadata": {},
   "source": [
    "## 교훈: 숫자 variable은 len함수에 넣을 수 없다."
   ]
  },
  {
   "cell_type": "code",
   "execution_count": 12,
   "metadata": {},
   "outputs": [
    {
     "ename": "TypeError",
     "evalue": "object of type 'int' has no len()",
     "output_type": "error",
     "traceback": [
      "\u001b[1;31m---------------------------------------------------------------------------\u001b[0m",
      "\u001b[1;31mTypeError\u001b[0m                                 Traceback (most recent call last)",
      "\u001b[1;32m<ipython-input-12-3ebb3ead0710>\u001b[0m in \u001b[0;36m<module>\u001b[1;34m\u001b[0m\n\u001b[0;32m      1\u001b[0m \u001b[0ma\u001b[0m \u001b[1;33m=\u001b[0m \u001b[1;33m[\u001b[0m\u001b[1;36m44\u001b[0m\u001b[1;33m,\u001b[0m \u001b[1;36m6432\u001b[0m\u001b[1;33m,\u001b[0m \u001b[1;36m54023\u001b[0m\u001b[1;33m,\u001b[0m \u001b[1;36m819384\u001b[0m\u001b[1;33m]\u001b[0m\u001b[1;33m\u001b[0m\u001b[1;33m\u001b[0m\u001b[0m\n\u001b[1;32m----> 2\u001b[1;33m \u001b[0mb\u001b[0m \u001b[1;33m=\u001b[0m \u001b[1;33m[\u001b[0m\u001b[0mi\u001b[0m \u001b[1;32mfor\u001b[0m \u001b[0mi\u001b[0m \u001b[1;32min\u001b[0m \u001b[0ma\u001b[0m \u001b[1;32mif\u001b[0m \u001b[0mlen\u001b[0m\u001b[1;33m(\u001b[0m\u001b[0mi\u001b[0m\u001b[1;33m)\u001b[0m \u001b[1;33m>=\u001b[0m\u001b[1;36m4\u001b[0m\u001b[1;33m]\u001b[0m\u001b[1;33m\u001b[0m\u001b[1;33m\u001b[0m\u001b[0m\n\u001b[0m\u001b[0;32m      3\u001b[0m \u001b[0mb\u001b[0m\u001b[1;33m\u001b[0m\u001b[1;33m\u001b[0m\u001b[0m\n",
      "\u001b[1;32m<ipython-input-12-3ebb3ead0710>\u001b[0m in \u001b[0;36m<listcomp>\u001b[1;34m(.0)\u001b[0m\n\u001b[0;32m      1\u001b[0m \u001b[0ma\u001b[0m \u001b[1;33m=\u001b[0m \u001b[1;33m[\u001b[0m\u001b[1;36m44\u001b[0m\u001b[1;33m,\u001b[0m \u001b[1;36m6432\u001b[0m\u001b[1;33m,\u001b[0m \u001b[1;36m54023\u001b[0m\u001b[1;33m,\u001b[0m \u001b[1;36m819384\u001b[0m\u001b[1;33m]\u001b[0m\u001b[1;33m\u001b[0m\u001b[1;33m\u001b[0m\u001b[0m\n\u001b[1;32m----> 2\u001b[1;33m \u001b[0mb\u001b[0m \u001b[1;33m=\u001b[0m \u001b[1;33m[\u001b[0m\u001b[0mi\u001b[0m \u001b[1;32mfor\u001b[0m \u001b[0mi\u001b[0m \u001b[1;32min\u001b[0m \u001b[0ma\u001b[0m \u001b[1;32mif\u001b[0m \u001b[0mlen\u001b[0m\u001b[1;33m(\u001b[0m\u001b[0mi\u001b[0m\u001b[1;33m)\u001b[0m \u001b[1;33m>=\u001b[0m\u001b[1;36m4\u001b[0m\u001b[1;33m]\u001b[0m\u001b[1;33m\u001b[0m\u001b[1;33m\u001b[0m\u001b[0m\n\u001b[0m\u001b[0;32m      3\u001b[0m \u001b[0mb\u001b[0m\u001b[1;33m\u001b[0m\u001b[1;33m\u001b[0m\u001b[0m\n",
      "\u001b[1;31mTypeError\u001b[0m: object of type 'int' has no len()"
     ]
    }
   ],
   "source": [
    "a = [44, 6432, 54023, 819384]\n",
    "b = [i for i in a if len(i) >=4]\n",
    "b"
   ]
  }
 ],
 "metadata": {
  "kernelspec": {
   "display_name": "Python 3",
   "language": "python",
   "name": "python3"
  },
  "language_info": {
   "codemirror_mode": {
    "name": "ipython",
    "version": 3
   },
   "file_extension": ".py",
   "mimetype": "text/x-python",
   "name": "python",
   "nbconvert_exporter": "python",
   "pygments_lexer": "ipython3",
   "version": "3.7.1"
  }
 },
 "nbformat": 4,
 "nbformat_minor": 2
}
