{
 "cells": [
  {
   "cell_type": "markdown",
   "metadata": {},
   "source": [
    "#### NLTK: natural language ?? (library)\n",
    "#### python은 2.7 ver-> 3.0\n",
    "#### change가 많아서 호환이 잘 안됨\n",
    "#### python 사용자 중 2.7에 머물기도 해\n",
    "#### re: regular expression 관련 패키지\n",
    "#### function 사용된 거: re.search, re.findall 이 정도만 사용한 상태\n",
    "#### bracket 해서 list comprehension에 익숙해질 것\n",
    "#### 코드창인데 markdown처럼 comment를 넣으려면 앞에 # 넣어도 ok\n",
    "#### range로 #을 넣는 기능을 위해서(너무 계속 # 붙이려면 귀찮으니까)  '''~''' or \"\"\"~\"\"\" (적어놓았으나 실행되진 않음)"
   ]
  },
  {
   "cell_type": "code",
   "execution_count": 4,
   "metadata": {},
   "outputs": [
    {
     "ename": "NameError",
     "evalue": "name 'nltk' is not defined",
     "output_type": "error",
     "traceback": [
      "\u001b[1;31m---------------------------------------------------------------------------\u001b[0m",
      "\u001b[1;31mNameError\u001b[0m                                 Traceback (most recent call last)",
      "\u001b[1;32m<ipython-input-4-6e230a00a763>\u001b[0m in \u001b[0;36m<module>\u001b[1;34m\u001b[0m\n\u001b[1;32m----> 1\u001b[1;33m \u001b[0mnltk\u001b[0m\u001b[1;33m.\u001b[0m\u001b[0mdownload\u001b[0m\u001b[1;33m(\u001b[0m\u001b[1;33m)\u001b[0m\u001b[1;33m\u001b[0m\u001b[1;33m\u001b[0m\u001b[0m\n\u001b[0m",
      "\u001b[1;31mNameError\u001b[0m: name 'nltk' is not defined"
     ]
    }
   ],
   "source": [
    "nltk.download()"
   ]
  },
  {
   "cell_type": "code",
   "execution_count": 1,
   "metadata": {},
   "outputs": [],
   "source": [
    "import nltk\n",
    "import re"
   ]
  },
  {
   "cell_type": "code",
   "execution_count": 21,
   "metadata": {},
   "outputs": [],
   "source": [
    "var=\"\"\"\n",
    "Basic Regular Expression Meta-Characters, Including Wildcards, Ranges and Closures\n",
    ".\t        Wildcard, matches any character\n",
    "^abc\t    Matches some pattern abc at the start of a string\n",
    "abc$\t    Matches some pattern abc at the end of a string\n",
    "[abc]\t    Matches one of a set of characters\n",
    "[^abc]      Matches anything but a set of characters\n",
    "[A-Z0-9]\tMatches one of a range of characters\n",
    "ed|ing|s\tMatches one of the specified strings (disjunction)\n",
    "*\t        Zero or more of previous item, e.g. a*, [a-z]* (also known as Kleene Closure)\n",
    "+\t        One or more of previous item, e.g. a+, [a-z]+\n",
    "?\t        Zero or one of the previous item (i.e. optional), e.g. a?, [a-z]?\n",
    "{n}\t        Exactly n repeats where n is a non-negative integer\n",
    "{n,}\t    At least n repeats\n",
    "{,n}\t    No more than n repeats\n",
    "{m,n}\t    At least m and no more than n repeats\n",
    "a(b|c)+\t    Parentheses that indicate the scope of the operators\n",
    "(...)       Matches whatever regular expression is inside the parentheses\n",
    "\"\"\""
   ]
  },
  {
   "cell_type": "markdown",
   "metadata": {},
   "source": [
    "#### 명심: string에 적용되는 함수이다\n",
    "#### string에 적용되는 것이 regexp\n",
    "#### 사전을 통째로  nltk에서 가져옴"
   ]
  },
  {
   "cell_type": "code",
   "execution_count": 26,
   "metadata": {},
   "outputs": [
    {
     "name": "stdout",
     "output_type": "stream",
     "text": [
      "<class 'list'>\n"
     ]
    }
   ],
   "source": [
    "dic = nltk.corpus.words.words('en')\n",
    "print(type(dic))"
   ]
  },
  {
   "cell_type": "code",
   "execution_count": 14,
   "metadata": {},
   "outputs": [],
   "source": [
    "a=[]\n",
    "for w in nltk.corpus.words.words('en'):\n",
    "    if w.islower():\n",
    "        a.append(w)"
   ]
  },
  {
   "cell_type": "markdown",
   "metadata": {},
   "source": [
    "#### in 뒤의 list\n",
    "#### 그 리스트 안의 단어가 소문자일 때만 wordlist 안의 리스트에 쌓인다.\n",
    "#### 최초 10개만 보여다오"
   ]
  },
  {
   "cell_type": "code",
   "execution_count": 27,
   "metadata": {
    "scrolled": false
   },
   "outputs": [
    {
     "name": "stdout",
     "output_type": "stream",
     "text": [
      "['a', 'aa', 'aal', 'aalii', 'aam', 'aardvark', 'aardwolf', 'aba', 'abac', 'abaca']\n"
     ]
    }
   ],
   "source": [
    "wordlist = [w for w in dic if w.islower()]\n",
    "print(wordlist[:10])"
   ]
  },
  {
   "cell_type": "code",
   "execution_count": 33,
   "metadata": {},
   "outputs": [
    {
     "name": "stdout",
     "output_type": "stream",
     "text": [
      "['a', 'aa', 'aal', 'aalii', 'aam', 'aardvark', 'aardwolf', 'aba', 'abac', 'abaca']\n"
     ]
    }
   ],
   "source": [
    "wordlist = [w for w in nltk.corpus.words.words('en') if w.islower()]\n",
    "print(wordlist[:10])"
   ]
  },
  {
   "cell_type": "code",
   "execution_count": 31,
   "metadata": {},
   "outputs": [
    {
     "data": {
      "text/plain": [
       "True"
      ]
     },
     "execution_count": 31,
     "metadata": {},
     "output_type": "execute_result"
    }
   ],
   "source": [
    "a==wordlist"
   ]
  },
  {
   "cell_type": "markdown",
   "metadata": {},
   "source": [
    "#### regexp -string에 적용된다, list에 적용되지 않는다\n",
    "#### for loop의 의미: 어떤 사전이 있는데 이 조건에 해당하는 단어를 찾아라(X)\n",
    "#### regexp를 리스트 전체에 적용시키기 위해서는 한 요소씩(하나하나씩) 적용해야 한다(하나하나는 string이니까)"
   ]
  },
  {
   "cell_type": "markdown",
   "metadata": {},
   "source": [
    "#### 첫째: 찾는 조건, 둘째: 찾는 대상(리스트도 될 수 있고, string도 들어갈 수 있다)\n",
    "#### 뒤어세 앞의 내용을 찾아라\n",
    "#### 보여주는 방식: 찾은 걸 보여줄 수 있고, 찾은 range를 보여줄 수도 있다\n",
    "#### 여기선 둘 다 나옴"
   ]
  },
  {
   "cell_type": "code",
   "execution_count": 19,
   "metadata": {
    "scrolled": true
   },
   "outputs": [
    {
     "name": "stdout",
     "output_type": "stream",
     "text": [
      "<class 're.Match'>\n"
     ]
    }
   ],
   "source": [
    "re.search('abc','abcde')   # 함수의 입력 갯수: 2개\n",
    "print(type(re.search('abc','abcde')))"
   ]
  },
  {
   "cell_type": "markdown",
   "metadata": {},
   "source": [
    "#### output으로 아무것도 없는 이유는 2째 input에 1째 input에 해당하는 부분이 없으니까"
   ]
  },
  {
   "cell_type": "code",
   "execution_count": 18,
   "metadata": {},
   "outputs": [],
   "source": [
    "re.search('ed','abcde')"
   ]
  },
  {
   "cell_type": "code",
   "execution_count": 17,
   "metadata": {},
   "outputs": [
    {
     "name": "stdout",
     "output_type": "stream",
     "text": [
      "<re.Match object; span=(0, 3), match='abc'>\n"
     ]
    }
   ],
   "source": [
    "x = re.search('abc','abcde')\n",
    "print(x)"
   ]
  },
  {
   "cell_type": "markdown",
   "metadata": {},
   "source": [
    "#### wordlist 안에 있는 단어들이 w로 들어가서 for loop을 돈다(횟수: len(wordlist))\n",
    "#### w에 쌓일지 말지는 if문에서 결정됨 -ed로 끝나는 단어 가져오기, ed로 끝나지 않으면 그냥 패스하기\n",
    "#### 그렇게 해서 만들어진 리스트 중 처음부터 10번째 것까지만 result에 들어간다.\n",
    "#### 이럴 때 if 문이 없다면([:10]을 입력하지 않았다고 가정하자) result == wordlist"
   ]
  },
  {
   "cell_type": "code",
   "execution_count": 18,
   "metadata": {
    "scrolled": true
   },
   "outputs": [
    {
     "name": "stdout",
     "output_type": "stream",
     "text": [
      "['abaissed', 'abandoned', 'abased', 'abashed', 'abatised', 'abed', 'aborted', 'abridged', 'abscessed', 'absconded']\n",
      "['abaissed', 'abandoned', 'abased', 'abashed', 'abatised', 'abed', 'aborted', 'abridged', 'abscessed', 'absconded']\n"
     ]
    }
   ],
   "source": [
    "result = [w for w in wordlist if re.search('ed$', w)][:10]\n",
    "print(result)\n",
    "result = [w for w in wordlist if re.search('ed$', w)]\n",
    "print(result[:10])"
   ]
  },
  {
   "cell_type": "code",
   "execution_count": null,
   "metadata": {},
   "outputs": [],
   "source": [
    "result = [w for w in wordlist if re.search('ed$', w)][:10]\n",
    "print(result[:10])  # 여기서 10은 redundant"
   ]
  },
  {
   "cell_type": "markdown",
   "metadata": {},
   "source": [
    "#### ^: 앞, $: 뒤\n",
    "#### 3번째 character가 j, 6번째 character가 t, 그리고 t 뒤에 2개의 character가 있는 단어를 찾아라(각각의 .== 각각 하나의 character)"
   ]
  },
  {
   "cell_type": "code",
   "execution_count": 21,
   "metadata": {},
   "outputs": [
    {
     "name": "stdout",
     "output_type": "stream",
     "text": [
      "['abjectly', 'adjuster', 'dejected', 'dejectly', 'injector', 'majestic', 'objectee', 'objector', 'rejecter', 'rejector']\n",
      "['abjectly', 'adjuster', 'dejected', 'dejectly', 'injector', 'majestic', 'objectee', 'objector', 'rejecter', 'rejector', 'unjilted', 'unjolted', 'unjustly']\n",
      "13\n"
     ]
    }
   ],
   "source": [
    "result = [w for w in wordlist if re.search('^..j..t..$', w)]    # 출력되는 리스트의 단어릐 length: 8\n",
    "print(result[:10])\n",
    "print(result)\n",
    "print(len(result))"
   ]
  },
  {
   "cell_type": "code",
   "execution_count": 47,
   "metadata": {},
   "outputs": [
    {
     "name": "stdout",
     "output_type": "stream",
     "text": [
      "['abjectly', 'adjuster', 'dejected', 'dejectly', 'injector', 'majestic', 'objectee', 'objector', 'rejecter', 'rejector']\n",
      "<class 'list'>\n"
     ]
    }
   ],
   "source": [
    "result = [w for w in wordlist if re.search('^..j..t..$', w)][:10]    # 출력되는 리스트의 단어릐 length: 8\n",
    "print(result[:10])\n",
    "print(type(result))"
   ]
  },
  {
   "cell_type": "code",
   "execution_count": 48,
   "metadata": {},
   "outputs": [
    {
     "name": "stdout",
     "output_type": "stream",
     "text": [
      "['adjacently', 'objurgator', 'unjacketed', 'unjesuited']\n"
     ]
    }
   ],
   "source": [
    "result = [w for w in wordlist if re.search('^..j....t..$', w)][:10]\n",
    "print(result[:10])"
   ]
  },
  {
   "cell_type": "markdown",
   "metadata": {},
   "source": [
    "#### 첫째 자리: g,h,i 중 하나\n",
    "#### 둘째 자리: m,n,o 중 하나\n",
    "#### 셋째 자리: j,l,k 중 하나\n",
    "#### 넷째(=마지막자리($이 입력되어 있으므로)) 자리: d,e,f 중 하나\n",
    "#### 인 단어를 찾아서 앞의 10개까지만 result에 넣어라"
   ]
  },
  {
   "cell_type": "code",
   "execution_count": 7,
   "metadata": {
    "scrolled": true
   },
   "outputs": [
    {
     "name": "stdout",
     "output_type": "stream",
     "text": [
      "['gold', 'golf', 'hold', 'hole']\n"
     ]
    }
   ],
   "source": [
    "result = [w for w in wordlist if re.search('^[ghi][mno][jlk][def]$', w)][:10]\n",
    "print(result[:10])"
   ]
  },
  {
   "cell_type": "markdown",
   "metadata": {},
   "source": [
    "#### 첫째 자리: a 또는 h\n",
    "#### 둘째 자리~끝 자리: 아무것도 오지 않을 수 있고, 온다면 a또는 h가 온다.\n",
    "#### +의 의미: 1회 이상\n",
    "#### 10개까지 print하라고 했으나 원래 변수의 길이가 10보다 짧으면 짧은 대로 print된다."
   ]
  },
  {
   "cell_type": "code",
   "execution_count": 8,
   "metadata": {},
   "outputs": [
    {
     "name": "stdout",
     "output_type": "stream",
     "text": [
      "['a', 'aa', 'ah', 'aha', 'h', 'ha', 'hah']\n"
     ]
    }
   ],
   "source": [
    "result = [w for w in wordlist if re.search('^[ah]+$', w)][:10]\n",
    "print(result[:10])"
   ]
  },
  {
   "cell_type": "markdown",
   "metadata": {},
   "source": [
    "#### 너무 많아서 끝 부분이 ...으로 나옴:  ('3.80', ...])\n",
    "#### world street journal\n",
    "#### wsj에서 나온 단어들이 나온 것\n",
    "#### type(wsj) == list"
   ]
  },
  {
   "cell_type": "code",
   "execution_count": 4,
   "metadata": {},
   "outputs": [],
   "source": [
    "wsj = sorted(set(nltk.corpus.treebank.words()))\n",
    "# wsj"
   ]
  },
  {
   "cell_type": "markdown",
   "metadata": {},
   "source": [
    "#### 처음(^이 있으므로): 0~9 중 하나(+: 1회 이상 올 수 있다)\n",
    "### \\ . :  특수문자인 점을 print하는 방법(실제 .을 찾는 방법)\n",
    "#### 끝(달러모양): 0~9 중 하나(+: 1회 이상 올 수 있다)\n",
    "#### 만약 [09] -> 0 또는 9\n",
    "### \\ + : 특수문자인 +을 찾아라\n",
    "#### 실수를 찾는 셈(음수 제외)\n",
    "#### '^'와 '$' 없애면 정해진 패턴이 아무데서나 포함되기만 하면 됨"
   ]
  },
  {
   "cell_type": "code",
   "execution_count": 25,
   "metadata": {
    "scrolled": true
   },
   "outputs": [
    {
     "name": "stdout",
     "output_type": "stream",
     "text": [
      "['0.0085', '0.05', '0.1', '0.16', '0.2', '0.25', '0.28', '0.3', '0.4', '0.5']\n",
      "['9.9', '92.9', '93.3', '93.9', '94.2', '94.8', '95.09', '96.4', '98.3', '99.1', '99.3']\n"
     ]
    }
   ],
   "source": [
    "wordlist = [w for w in wsj if re.search('^[0-9]+\\.[0-9]+$', w)]\n",
    "print(wordlist[:10])\n",
    "print(wordlist[470:])"
   ]
  },
  {
   "cell_type": "markdown",
   "metadata": {},
   "source": [
    "#### 알파벳이 뭐가 나오든!\n",
    "#### 알파벳이든 숫자든 자리 1개 = .\n",
    "#### 왜 달러모양이 2개? '\\달러모양'의 의미: 특수문자인 달러모양기호가 붙어있다\n",
    "#### 알파벳 아무거나 + $로 끝나는 것을 찾아라\n",
    "#### [A-Z0-9]: 알파벳 또는 숫자 1개 나옴.(특수문자를 제외한 것) len = 1\n",
    "#### [^abc] : a,b,c가 아닌 것 아무거나 중 1개만 나와라"
   ]
  },
  {
   "cell_type": "code",
   "execution_count": 27,
   "metadata": {},
   "outputs": [
    {
     "name": "stdout",
     "output_type": "stream",
     "text": [
      "['C$', 'US$']\n"
     ]
    }
   ],
   "source": [
    "wordlist = [w for w in wsj if re.search('^[A-Z]+\\$$', w)]\n",
    "print(wordlist[:10])"
   ]
  },
  {
   "cell_type": "markdown",
   "metadata": {},
   "source": [
    "#### 리스트가 비어 있다:1개이상의 소문자 뒤에 달러모양이 붙은 경우는 없다"
   ]
  },
  {
   "cell_type": "code",
   "execution_count": 28,
   "metadata": {
    "scrolled": true
   },
   "outputs": [
    {
     "name": "stdout",
     "output_type": "stream",
     "text": [
      "[]\n"
     ]
    }
   ],
   "source": [
    "wordlist = [w for w in wsj if re.search('^[a-z]+\\$$', w)]\n",
    "print(wordlist[:10])"
   ]
  },
  {
   "cell_type": "markdown",
   "metadata": {},
   "source": [
    "#### 결과의 의미: 알파벳이 1개 이상 나오고 뒤에 달러모양이 오는 경우는 대문자 1~2개 뒤에 달러모양이 오는 경우만 있다."
   ]
  },
  {
   "cell_type": "code",
   "execution_count": 29,
   "metadata": {
    "scrolled": true
   },
   "outputs": [
    {
     "name": "stdout",
     "output_type": "stream",
     "text": [
      "['C$', 'US$']\n"
     ]
    }
   ],
   "source": [
    "wordlist = [w for w in wsj if re.search('^[A-Za-z]+\\$$', w)]\n",
    "print(wordlist[:10])"
   ]
  },
  {
   "cell_type": "markdown",
   "metadata": {},
   "source": [
    "#### {숫자} : 반복 횟수\n",
    "#### 0~9에서 하나의 숫자의 골라 나오는 과정이 4번 반복된다."
   ]
  },
  {
   "cell_type": "code",
   "execution_count": 12,
   "metadata": {
    "scrolled": true
   },
   "outputs": [
    {
     "name": "stdout",
     "output_type": "stream",
     "text": [
      "['1614', '1637', '1787', '1901', '1903', '1917', '1925', '1929', '1933', '1934']\n"
     ]
    }
   ],
   "source": [
    "wordlist = [w for w in wsj if re.search('^[0-9]{4}$', w)]\n",
    "print(wordlist[:10])"
   ]
  },
  {
   "cell_type": "markdown",
   "metadata": {},
   "source": [
    "#### 리스트 요소의 특징\n",
    "#### 처음에 숫자가 하나 이상 나온다\n",
    "#### -: 그냥 입력되고 출력된다(그냥 특수기호일 뿐이라 별다른 의미가 없다)\n",
    "#### 끝엔 알파벳이 3~5자리가 나온다\n",
    "#### 하나 이상이라고 지정했는데 하나짜리는 없나봐(숫자)"
   ]
  },
  {
   "cell_type": "code",
   "execution_count": 13,
   "metadata": {},
   "outputs": [
    {
     "name": "stdout",
     "output_type": "stream",
     "text": [
      "['10-day', '10-lap', '10-year', '100-share', '12-point', '12-year', '14-hour', '15-day', '150-point', '190-point']\n"
     ]
    }
   ],
   "source": [
    "wordlist = [w for w in wsj if re.search('^[0-9]+-[a-z]{3,5}$', w)]\n",
    "print(wordlist[:10])"
   ]
  },
  {
   "cell_type": "markdown",
   "metadata": {},
   "source": [
    "#### <이 리스트 요소의 특징>\n",
    "#### 1) 알파벳이 5개 이상\n",
    "#### 2) -가 쓰인다\n",
    "#### 3) 알파벳이 2~3개\n",
    "#### 4) -가 쓰임\n",
    "#### 5) 알파벳이 6개 이하인 것\n",
    "#### 하나의 결과물을 위해서 다양한 regexp을 쓸 수 있다"
   ]
  },
  {
   "cell_type": "code",
   "execution_count": 14,
   "metadata": {
    "scrolled": true
   },
   "outputs": [
    {
     "name": "stdout",
     "output_type": "stream",
     "text": [
      "['black-and-white', 'bread-and-butter', 'father-in-law', 'machine-gun-toting', 'savings-and-loan']\n"
     ]
    }
   ],
   "source": [
    "wordlist = [w for w in wsj if re.search('^[a-z]{5,}-[a-z]{2,3}-[a-z]{,6}$', w)]\n",
    "print(wordlist[:10])"
   ]
  },
  {
   "cell_type": "markdown",
   "metadata": {},
   "source": [
    "#### | : '또는'\n",
    "#### ed로 끝나거나 ing로 끝나는 것\n",
    "#### (||||) 이렇게 또는의 대상이 되는 것들은 소괄호로 묶어야지"
   ]
  },
  {
   "cell_type": "code",
   "execution_count": 15,
   "metadata": {
    "scrolled": true
   },
   "outputs": [
    {
     "name": "stdout",
     "output_type": "stream",
     "text": [
      "['62%-owned', 'Absorbed', 'According', 'Adopting', 'Advanced', 'Advancing', 'Alfred', 'Allied', 'Annualized', 'Anything']\n"
     ]
    }
   ],
   "source": [
    "wordlist = [w for w in wsj if re.search('(ed|ing)$', w)]\n",
    "print(wordlist[:10])"
   ]
  },
  {
   "cell_type": "markdown",
   "metadata": {},
   "source": [
    "#### 또는의 대상이 되는 string의 길이가 1일 수 있다."
   ]
  },
  {
   "cell_type": "code",
   "execution_count": 7,
   "metadata": {
    "scrolled": true
   },
   "outputs": [
    {
     "name": "stdout",
     "output_type": "stream",
     "text": [
      "[\"'re\", \"'ve\", '100-megabyte', '100-share', '120-a-share', '18-a-share', '240-page', '30-minute', '30-share', '300-a-share']\n"
     ]
    }
   ],
   "source": [
    "wordlist = [w for w in wsj if re.search('(e|i)$', w)]\n",
    "print(wordlist[:10])"
   ]
  },
  {
   "cell_type": "markdown",
   "metadata": {},
   "source": [
    "#### nltk.FreqDist(vs for word in wsj) 이걸 먼저 생각해라\n",
    "#### :wsj에 있는 단어들을 word에 넣는데, 이때 각 요소가 몇 번 나오는지를 짝 지어 줘라\n",
    "#### FreqDist의 결과물은 list가 아니다"
   ]
  },
  {
   "cell_type": "code",
   "execution_count": 12,
   "metadata": {},
   "outputs": [
    {
     "name": "stdout",
     "output_type": "stream",
     "text": [
      "<FreqDist with 12408 samples and 12408 outcomes>\n",
      "<class 'nltk.probability.FreqDist'>\n",
      "12408\n",
      "12408\n"
     ]
    }
   ],
   "source": [
    "fdist = nltk.FreqDist(word for word in wsj)\n",
    "print(fdist)\n",
    "print(type(fdist))\n",
    "print(len(fdist))\n",
    "print(len(wsj))"
   ]
  },
  {
   "cell_type": "markdown",
   "metadata": {},
   "source": [
    "#### re.search: 뭐가 있느냐 없느냐를 찾아줌\n",
    "#### re.findall: 2째input에 1째input에 해당하는 것이 있으면 그냥 다 찾아서 리스트로 만들어서 줘라\n",
    "#### re.search와 re.findall이 주는 output의 type은 다르다"
   ]
  },
  {
   "cell_type": "code",
   "execution_count": 22,
   "metadata": {
    "scrolled": true
   },
   "outputs": [
    {
     "name": "stdout",
     "output_type": "stream",
     "text": [
      "['ab', 'ab', 'ab', 'ab']\n",
      "<class 'list'>\n"
     ]
    }
   ],
   "source": [
    "print(re.findall('ab','ababdddabkabddd'))\n",
    "print(type(re.findall('ab','ababdddabkabddd')))"
   ]
  },
  {
   "cell_type": "markdown",
   "metadata": {},
   "source": [
    "#### re.Match에는 len 함수를 적용할 수 없다."
   ]
  },
  {
   "cell_type": "code",
   "execution_count": 24,
   "metadata": {},
   "outputs": [
    {
     "name": "stdout",
     "output_type": "stream",
     "text": [
      "<re.Match object; span=(0, 2), match='ab'>\n",
      "<class 're.Match'>\n"
     ]
    },
    {
     "ename": "TypeError",
     "evalue": "object of type 're.Match' has no len()",
     "output_type": "error",
     "traceback": [
      "\u001b[1;31m---------------------------------------------------------------------------\u001b[0m",
      "\u001b[1;31mTypeError\u001b[0m                                 Traceback (most recent call last)",
      "\u001b[1;32m<ipython-input-24-f75a19086f68>\u001b[0m in \u001b[0;36m<module>\u001b[1;34m\u001b[0m\n\u001b[0;32m      1\u001b[0m \u001b[0mprint\u001b[0m\u001b[1;33m(\u001b[0m\u001b[0mre\u001b[0m\u001b[1;33m.\u001b[0m\u001b[0msearch\u001b[0m\u001b[1;33m(\u001b[0m\u001b[1;34m'ab'\u001b[0m\u001b[1;33m,\u001b[0m\u001b[1;34m'ababdddabkabddd'\u001b[0m\u001b[1;33m)\u001b[0m\u001b[1;33m)\u001b[0m\u001b[1;33m\u001b[0m\u001b[1;33m\u001b[0m\u001b[0m\n\u001b[0;32m      2\u001b[0m \u001b[0mprint\u001b[0m\u001b[1;33m(\u001b[0m\u001b[0mtype\u001b[0m\u001b[1;33m(\u001b[0m\u001b[0mre\u001b[0m\u001b[1;33m.\u001b[0m\u001b[0msearch\u001b[0m\u001b[1;33m(\u001b[0m\u001b[1;34m'ab'\u001b[0m\u001b[1;33m,\u001b[0m\u001b[1;34m'ababdddabkabddd'\u001b[0m\u001b[1;33m)\u001b[0m\u001b[1;33m)\u001b[0m\u001b[1;33m)\u001b[0m\u001b[1;33m\u001b[0m\u001b[1;33m\u001b[0m\u001b[0m\n\u001b[1;32m----> 3\u001b[1;33m \u001b[0mprint\u001b[0m\u001b[1;33m(\u001b[0m\u001b[0mlen\u001b[0m\u001b[1;33m(\u001b[0m\u001b[0mre\u001b[0m\u001b[1;33m.\u001b[0m\u001b[0msearch\u001b[0m\u001b[1;33m(\u001b[0m\u001b[1;34m'ab'\u001b[0m\u001b[1;33m,\u001b[0m\u001b[1;34m'ababdddabkabddd'\u001b[0m\u001b[1;33m)\u001b[0m\u001b[1;33m)\u001b[0m\u001b[1;33m)\u001b[0m\u001b[1;33m\u001b[0m\u001b[1;33m\u001b[0m\u001b[0m\n\u001b[0m",
      "\u001b[1;31mTypeError\u001b[0m: object of type 're.Match' has no len()"
     ]
    }
   ],
   "source": [
    "print(re.search('ab','ababdddabkabddd'))\n",
    "print(type(re.search('ab','ababdddabkabddd')))\n",
    "print(len(re.search('ab','ababdddabkabddd')))"
   ]
  },
  {
   "cell_type": "markdown",
   "metadata": {},
   "source": [
    "#### 왜 하는가? - 이 사전에서 모음을 다 뽑아와라\n",
    "#### 하나 이상이 되는 것을 뽑아오라고 할 수도 있다"
   ]
  },
  {
   "cell_type": "code",
   "execution_count": 8,
   "metadata": {},
   "outputs": [
    {
     "name": "stdout",
     "output_type": "stream",
     "text": [
      "<class 'list'>\n"
     ]
    }
   ],
   "source": [
    "atleastone1 = [vs for word in wsj for vs in re.findall(r'[aeiou]{1,}',word)]\n",
    "print(type(atleastone1))"
   ]
  },
  {
   "cell_type": "code",
   "execution_count": 9,
   "metadata": {},
   "outputs": [],
   "source": [
    "atleastone2 = [vs for word in wsj for vs in re.findall(r'[aeiou]+',word)]"
   ]
  },
  {
   "cell_type": "code",
   "execution_count": 10,
   "metadata": {},
   "outputs": [
    {
     "data": {
      "text/plain": [
       "True"
      ]
     },
     "execution_count": 10,
     "metadata": {},
     "output_type": "execute_result"
    }
   ],
   "source": [
    "atleastone1 == atleastone2"
   ]
  },
  {
   "cell_type": "code",
   "execution_count": 11,
   "metadata": {},
   "outputs": [
    {
     "name": "stdout",
     "output_type": "stream",
     "text": [
      "26119\n"
     ]
    }
   ],
   "source": [
    "print(len(atleastone1))"
   ]
  },
  {
   "cell_type": "code",
   "execution_count": 12,
   "metadata": {},
   "outputs": [
    {
     "ename": "SyntaxError",
     "evalue": "invalid syntax (<ipython-input-12-a241399327fd>, line 1)",
     "output_type": "error",
     "traceback": [
      "\u001b[1;36m  File \u001b[1;32m\"<ipython-input-12-a241399327fd>\"\u001b[1;36m, line \u001b[1;32m1\u001b[0m\n\u001b[1;33m    vs for word in wsj for vs in re.findall(r'[aeiou]{2,}',word)\u001b[0m\n\u001b[1;37m         ^\u001b[0m\n\u001b[1;31mSyntaxError\u001b[0m\u001b[1;31m:\u001b[0m invalid syntax\n"
     ]
    }
   ],
   "source": [
    "vs for word in wsj for vs in re.findall(r'[aeiou]{2,}',word)"
   ]
  },
  {
   "cell_type": "code",
   "execution_count": 71,
   "metadata": {},
   "outputs": [
    {
     "name": "stdout",
     "output_type": "stream",
     "text": [
      "3405\n"
     ]
    }
   ],
   "source": [
    "practice = [vs for word in wsj for vs in re.findall(r'[aeiou]{2,}',word)]  # type: list\n",
    "print(len(practice))\n",
    "# print(practice)"
   ]
  },
  {
   "cell_type": "markdown",
   "metadata": {},
   "source": [
    "#### wsj의 첫째 요소를 word에 넣는다\n",
    "#### word에서 r'[aeiou]{2,}'을 만족시키는 부분을 모두 찾아 만든 list의 요소를 아래 vs에 하나 넣는다.\n",
    "#### 아래 for loop을 통해 vs에 add up해서 다 넣고나면 vs가 하나의 list로 완성되고\n",
    "#### 그 완성된 list가 위vs(최종 list)에 추가되고, 다음 순서(wsj의 둘째 요소)의 for loop을 돈다."
   ]
  },
  {
   "cell_type": "markdown",
   "metadata": {},
   "source": [
    "#### vs for word in wsj for vs in re.findall(r'[aeiou]{2,}',word)이 대괄호로 싸여 있어야 하는데 생략됨.\n",
    "#### FrqDist의 input의 type: list\n",
    "#### 아무생각 없이 모여있는 정보(3405개의 정보, 43가지 종류)에서 가장 많이 언급된 순서대로 정보들을 나열한 list를 보여줘: most_common\n",
    "#### most_common에 길이를 지정하면 list, 지정하지 않으면(그냥 most_common을 쓰면) method"
   ]
  },
  {
   "cell_type": "code",
   "execution_count": 5,
   "metadata": {
    "scrolled": true
   },
   "outputs": [
    {
     "name": "stdout",
     "output_type": "stream",
     "text": [
      "<FreqDist with 43 samples and 3405 outcomes>\n",
      "[('io', 549), ('ea', 476), ('ie', 331), ('ou', 329), ('ai', 261), ('ia', 253), ('ee', 217), ('oo', 174), ('ua', 109), ('au', 106)]\n",
      "<bound method Counter.most_common of FreqDist({'io': 549, 'ea': 476, 'ie': 331, 'ou': 329, 'ai': 261, 'ia': 253, 'ee': 217, 'oo': 174, 'ua': 109, 'au': 106, ...})>\n"
     ]
    }
   ],
   "source": [
    "fdist = nltk.FreqDist(vs for word in wsj for vs in re.findall(r'[aeiou]{2,}',word))\n",
    "print(fdist)\n",
    "print(fdist.most_common(10))\n",
    "print(fdist.most_common)"
   ]
  },
  {
   "cell_type": "code",
   "execution_count": 13,
   "metadata": {},
   "outputs": [
    {
     "name": "stdout",
     "output_type": "stream",
     "text": [
      "<class 'list'>\n",
      "<class 'method'>\n"
     ]
    }
   ],
   "source": [
    "print(type(fdist.most_common(10)))\n",
    "print(type(fdist.most_common))"
   ]
  },
  {
   "cell_type": "code",
   "execution_count": 3,
   "metadata": {},
   "outputs": [],
   "source": [
    "word = 'supercalifragilisticexpialidocious'"
   ]
  },
  {
   "cell_type": "markdown",
   "metadata": {},
   "source": [
    "#### 모음 찾아라\n",
    "#### 모음 중 가장 많이 출현하는 것은? -해봐!"
   ]
  },
  {
   "cell_type": "code",
   "execution_count": 23,
   "metadata": {},
   "outputs": [
    {
     "data": {
      "text/plain": [
       "<bound method Counter.most_common of FreqDist({'i': 7, 'a': 3, 'u': 2, 'e': 2, 'o': 2})>"
      ]
     },
     "execution_count": 23,
     "metadata": {},
     "output_type": "execute_result"
    }
   ],
   "source": [
    "result = re.findall('[aeiou]', word)\n",
    "ranking = nltk.FreqDist(result)\n",
    "ranking.most_common"
   ]
  },
  {
   "cell_type": "markdown",
   "metadata": {},
   "source": [
    "#### re.search의 입력: string\n",
    "#### re.findall의 입력: string\n",
    "#### re.findall: find된 대상을 찾아온다\n",
    "#### 세상에서 가장 긴 이 단어에서 모음이 찾아지면 가져와라(여러개면 여러개를 다 찾아와라)"
   ]
  },
  {
   "cell_type": "code",
   "execution_count": 6,
   "metadata": {},
   "outputs": [
    {
     "name": "stdout",
     "output_type": "stream",
     "text": [
      "['u', 'e', 'a', 'i', 'a', 'i', 'i', 'i', 'e', 'i', 'a', 'i', 'o', 'i', 'o', 'u']\n"
     ]
    }
   ],
   "source": [
    "result = re.findall('[aeiou]', word)\n",
    "print(result)"
   ]
  },
  {
   "cell_type": "markdown",
   "metadata": {},
   "source": [
    "#### 모음과 모음 사이에 있는 괄호 안에 있는 character 2개를 가져와라(괄호 밖의 내용은 가져오지 않음)"
   ]
  },
  {
   "cell_type": "code",
   "execution_count": 7,
   "metadata": {},
   "outputs": [
    {
     "name": "stdout",
     "output_type": "stream",
     "text": [
      "['rc', 'fr', 'st', 'xp', 'ci']\n"
     ]
    }
   ],
   "source": [
    "result = re.findall('[aeiou](..)[aeiou]', word)\n",
    "print(result)"
   ]
  },
  {
   "cell_type": "markdown",
   "metadata": {},
   "source": [
    "#### 모음이 아닌 것과 모음이 아닌 것 사이에 character가 하나 이상 오면, 모음 아닌 것~사이에 있는 character~모음아닌 것을 가져와라 (예: s~s)\n",
    "#### 소괄호가 없으므로 다 합쳐져서 나온다\n",
    "#### greedy search: 가능하면 크게 범위를 가져서 가져온다(내부적으로 포함된 것을 무시한다)"
   ]
  },
  {
   "cell_type": "code",
   "execution_count": 8,
   "metadata": {},
   "outputs": [
    {
     "name": "stdout",
     "output_type": "stream",
     "text": [
      "['supercalifragilisticexpialidocious']\n"
     ]
    }
   ],
   "source": [
    "result = re.findall('[^aeiou].+[^aeiou]', word) # greedy search\n",
    "print(result)"
   ]
  },
  {
   "cell_type": "markdown",
   "metadata": {},
   "source": [
    "#### ?의 의미: optional(Zero or one of the previous item) -> 여기서는 ?가 +에 적용\n",
    "#### -> 모음 아닌 것과 모음 아닌 것 사이에 일단 하나의 character가 있고, 2번째 character부터는 있어도 되고 없어도 된다\n",
    "#### 바로 앞의 것과의 차이: 가능하면 좁은 범위의 것들만 가져와라.(?이 부여하는 의미) : reluctant search"
   ]
  },
  {
   "cell_type": "code",
   "execution_count": 9,
   "metadata": {},
   "outputs": [
    {
     "name": "stdout",
     "output_type": "stream",
     "text": [
      "['sup', 'rcal', 'frag', 'lis', 'tic', 'xpial', 'doc']\n"
     ]
    }
   ],
   "source": [
    "result = re.findall('[^aeiou].+?[^aeiou]', word) # reluctant search\n",
    "print(result)"
   ]
  },
  {
   "cell_type": "markdown",
   "metadata": {},
   "source": [
    "#### 모음아닌 것과 모음 아닌 것 사이에 하나의 character가 오거나 아무것도 오지 않는 경우를 가져와라"
   ]
  },
  {
   "cell_type": "code",
   "execution_count": 29,
   "metadata": {},
   "outputs": [
    {
     "name": "stdout",
     "output_type": "stream",
     "text": [
      "['sup', 'rc', 'lif', 'rag', 'lis', 'tic', 'xp', 'lid']\n"
     ]
    }
   ],
   "source": [
    "result = re.findall('[^aeiou].?[^aeiou]', word) # reluctant search\n",
    "print(result)"
   ]
  },
  {
   "cell_type": "markdown",
   "metadata": {},
   "source": [
    "#### wsj: wall street journal\n",
    "#### nltk 안에 corpus 안에 treebank 안에 있는 사전을 가져옴\n",
    "#### set을 통해 집합처럼 만들어서 sorted를 통해 사전화한다(분류하고, 겹치는 거 하나만 나오게 하고.)\n",
    "#### wsj에 중복되는 단어도 많이 나오는데 집합으로 만들어서 a,b,c,d... 같은 sorting을 한다  : 사전화(사전에는 겹치는 단어가 없다)\n",
    "#### wsj를 보면 대문자로 시작하는 단어들이(A...~Z...) 먼저 나오고 그 다음엔 소문자로 시작하는 단어들(a...~z...)이 나온다\n",
    "#### sorted -> type: list"
   ]
  },
  {
   "cell_type": "code",
   "execution_count": 31,
   "metadata": {},
   "outputs": [
    {
     "name": "stdout",
     "output_type": "stream",
     "text": [
      "<class 'list'>\n"
     ]
    }
   ],
   "source": [
    "wsj = sorted(set(nltk.corpus.treebank.words()))\n",
    "# print(wsj)\n",
    "print(type(wsj))"
   ]
  },
  {
   "cell_type": "markdown",
   "metadata": {},
   "source": [
    "#### 예: yielding이 들어갔다.\n",
    "#### re.findall에 리스트가 만들어진다\n",
    "#### re.findall의 item들이 아래의 vs에 쌓인다(2개 이상 찾으면 list가 되겠지)\n",
    "#### 아래의 for loop을 다 돌아서 아래의 vs에 다 쌓이고 나면 그것이 통째로 위의 vs에 쌓인다 \n",
    "#### 전체기능: 내가 원하는 조건을 만족시키는 단어들만 모아서 다시 리스트를 만든다\n",
    "#### 각 item의 길이는 2보다 길 수도 있다"
   ]
  },
  {
   "cell_type": "code",
   "execution_count": 35,
   "metadata": {},
   "outputs": [
    {
     "name": "stdout",
     "output_type": "stream",
     "text": [
      "<class 'list'>\n"
     ]
    }
   ],
   "source": [
    "wordlist = [vs for word in wsj for vs in re.findall('[aeiou]{2,}', word)]\n",
    "# print(wordlist)\n",
    "print(type(wordlist))"
   ]
  },
  {
   "cell_type": "markdown",
   "metadata": {},
   "source": [
    "#### FreqDist 안에 리스트를 위한 대괄호 표시를 하지 않아도 괜찮음"
   ]
  },
  {
   "cell_type": "markdown",
   "metadata": {},
   "source": [
    "#### 중복되는 item이 있을 때 어떤 item의 빈도 수가 가장 많이 나오는가(FreqDist)\n",
    "#### 시험 예시: Q) fdist에 사전에 해당하는 리스트를 넣었다. fdist.most_common의 output에서 오른쪽 빈도 수가 몇일까? -> A) 빈도 수가 전부 1로 나타난다."
   ]
  },
  {
   "cell_type": "code",
   "execution_count": 38,
   "metadata": {},
   "outputs": [
    {
     "data": {
      "text/plain": [
       "[('io', 549),\n",
       " ('ea', 476),\n",
       " ('ie', 331),\n",
       " ('ou', 329),\n",
       " ('ai', 261),\n",
       " ('ia', 253),\n",
       " ('ee', 217),\n",
       " ('oo', 174),\n",
       " ('ua', 109),\n",
       " ('au', 106)]"
      ]
     },
     "execution_count": 38,
     "metadata": {},
     "output_type": "execute_result"
    }
   ],
   "source": [
    "fdist = nltk.FreqDist(wordlist)\n",
    "fdist.most_common(10)"
   ]
  },
  {
   "cell_type": "code",
   "execution_count": 39,
   "metadata": {
    "scrolled": true
   },
   "outputs": [
    {
     "data": {
      "text/plain": [
       "[('io', 549),\n",
       " ('ea', 476),\n",
       " ('ie', 331),\n",
       " ('ou', 329),\n",
       " ('ai', 261),\n",
       " ('ia', 253),\n",
       " ('ee', 217),\n",
       " ('oo', 174),\n",
       " ('ua', 109),\n",
       " ('au', 106)]"
      ]
     },
     "execution_count": 39,
     "metadata": {},
     "output_type": "execute_result"
    }
   ],
   "source": [
    "fdist = nltk.FreqDist(vs for word in wsj for vs in re.findall('[aeiou]{2,}', word))\n",
    "fdist.most_common(10)"
   ]
  },
  {
   "cell_type": "code",
   "execution_count": 41,
   "metadata": {},
   "outputs": [
    {
     "data": {
      "text/plain": [
       "True"
      ]
     },
     "execution_count": 41,
     "metadata": {},
     "output_type": "execute_result"
    }
   ],
   "source": [
    "fdist1 = nltk.FreqDist(wordlist)\n",
    "rank10_1=fdist1.most_common(10)\n",
    "\n",
    "fdist2 = nltk.FreqDist(vs for word in wsj for vs in re.findall('[aeiou]{2,}', word))\n",
    "rank10_2=fdist2.most_common(10)\n",
    "\n",
    "rank10_1 == rank10_2"
   ]
  },
  {
   "cell_type": "code",
   "execution_count": 42,
   "metadata": {},
   "outputs": [
    {
     "name": "stdout",
     "output_type": "stream",
     "text": [
      "['Universal', 'Declaration', 'of', 'Human', 'Rights', ...]\n"
     ]
    }
   ],
   "source": [
    "english_udhr = nltk.corpus.udhr.words('English-Latin1')\n",
    "print(english_udhr)"
   ]
  },
  {
   "cell_type": "code",
   "execution_count": 58,
   "metadata": {},
   "outputs": [
    {
     "name": "stdout",
     "output_type": "stream",
     "text": [
      "a a a a\n",
      "['a a a a']\n",
      "['a a a a a', 'b b b']\n"
     ]
    }
   ],
   "source": [
    "a = ['a','a','a','a']\n",
    "print(' '.join(a))\n",
    "print([' '.join(a)])\n",
    "a = [['a','a','a','a','a'],['b','b','b']]\n",
    "print([' '.join(w) for w in a])"
   ]
  },
  {
   "cell_type": "markdown",
   "metadata": {},
   "source": [
    "#### 직접 함수를 만들자\n",
    "#### def~return: 함수\n",
    "#### 함수: 입력과 출력이 있어야지(입력과 출력은 모두 optional하다)\n",
    "#### 함수의 이름을 내가 compress라 지정함\n",
    "#### def 함수이름(입력(입력이름도 내 맘대로 정함)): .... cf. 입력이 여러 개라면 콤마로 구분\n",
    "#### 함수의 내용을 쓸 때는 indent 필요(tab(space4개))\n",
    "#### 여기서 word는 string이겠지(re.findall이라는 함수를 쓰고 있으니까) ('word'도 내가 만든 함수 이름)\n",
    "#### return 출력\n",
    "#### regexp 변수를 보면... |의 의미: or\n",
    "#### ^이 대괄호 밖에 있으면 처음, ^이 대괄호 안에 있으면 not이라는 의미\n",
    "#### '앞에 있는 하나 이상의 모음' or '끝에 있는 하나 이상의 모음' or '어디에 있든 모음이 아닌 것'라는 조건을 regexp에 넣어라(re.findall의 input으로 쓰임)\n",
    "#### 함수의 내용: word에서 regexp에 해당하는 부분을 모두 찾아 만든 리스트를 pieces에 넣어라\n",
    "#### 함수의 출력: pieces 변수 안에 있는 리스트를 이어붙여라: ''.join(pieces)\n",
    "#### join의 입력: list, join의 출력: string\n",
    "#### 결론: 중간 모음들을 다 죽이는 과정\n",
    "#### english_udhr[:75] 안에 있는 item을 하나씩 compress 함수에 넣고, compress의 output을 list 형태로 만든다"
   ]
  },
  {
   "cell_type": "code",
   "execution_count": 44,
   "metadata": {},
   "outputs": [
    {
     "data": {
      "text/plain": [
       "['Unvrsl',\n",
       " 'Dclrtn',\n",
       " 'of',\n",
       " 'Hmn',\n",
       " 'Rghts',\n",
       " 'Prmble',\n",
       " 'Whrs',\n",
       " 'rcgntn',\n",
       " 'of',\n",
       " 'the',\n",
       " 'inhrnt',\n",
       " 'dgnty',\n",
       " 'and',\n",
       " 'of',\n",
       " 'the',\n",
       " 'eql',\n",
       " 'and',\n",
       " 'inlnble',\n",
       " 'rghts',\n",
       " 'of',\n",
       " 'all',\n",
       " 'mmbrs',\n",
       " 'of',\n",
       " 'the',\n",
       " 'hmn',\n",
       " 'fmly',\n",
       " 'is',\n",
       " 'the',\n",
       " 'fndtn',\n",
       " 'of',\n",
       " 'frdm',\n",
       " ',',\n",
       " 'jstce',\n",
       " 'and',\n",
       " 'pce',\n",
       " 'in',\n",
       " 'the',\n",
       " 'wrld',\n",
       " ',',\n",
       " 'Whrs',\n",
       " 'dsrgrd',\n",
       " 'and',\n",
       " 'cntmpt',\n",
       " 'fr',\n",
       " 'hmn',\n",
       " 'rghts',\n",
       " 'hve',\n",
       " 'rsltd',\n",
       " 'in',\n",
       " 'brbrs',\n",
       " 'acts',\n",
       " 'whch',\n",
       " 'hve',\n",
       " 'outrgd',\n",
       " 'the',\n",
       " 'cnscnce',\n",
       " 'of',\n",
       " 'mnknd',\n",
       " ',',\n",
       " 'and',\n",
       " 'the',\n",
       " 'advnt',\n",
       " 'of',\n",
       " 'a',\n",
       " 'wrld',\n",
       " 'in',\n",
       " 'whch',\n",
       " 'hmn',\n",
       " 'bngs',\n",
       " 'shll',\n",
       " 'enjy',\n",
       " 'frdm',\n",
       " 'of',\n",
       " 'spch',\n",
       " 'and']"
      ]
     },
     "execution_count": 44,
     "metadata": {},
     "output_type": "execute_result"
    }
   ],
   "source": [
    "regexp = '^[AEIOUaeiou]+|[AEIOUaeiou]+$|[^AEIOUaeiou]'\n",
    "def compress(word):\n",
    "    pieces = re.findall(regexp, word)\n",
    "    return ''.join(pieces)\n",
    "[compress(w) for w in english_udhr[:75]]"
   ]
  },
  {
   "cell_type": "code",
   "execution_count": 46,
   "metadata": {},
   "outputs": [
    {
     "data": {
      "text/plain": [
       "[['U', 'n', 'v', 'r', 's', 'l'],\n",
       " ['D', 'c', 'l', 'r', 't', 'n'],\n",
       " ['o', 'f'],\n",
       " ['H', 'm', 'n'],\n",
       " ['R', 'g', 'h', 't', 's'],\n",
       " ['P', 'r', 'm', 'b', 'l', 'e'],\n",
       " ['W', 'h', 'r', 's'],\n",
       " ['r', 'c', 'g', 'n', 't', 'n'],\n",
       " ['o', 'f'],\n",
       " ['t', 'h', 'e'],\n",
       " ['i', 'n', 'h', 'r', 'n', 't'],\n",
       " ['d', 'g', 'n', 't', 'y'],\n",
       " ['a', 'n', 'd'],\n",
       " ['o', 'f'],\n",
       " ['t', 'h', 'e'],\n",
       " ['e', 'q', 'l'],\n",
       " ['a', 'n', 'd'],\n",
       " ['i', 'n', 'l', 'n', 'b', 'l', 'e'],\n",
       " ['r', 'g', 'h', 't', 's'],\n",
       " ['o', 'f'],\n",
       " ['a', 'l', 'l'],\n",
       " ['m', 'm', 'b', 'r', 's'],\n",
       " ['o', 'f'],\n",
       " ['t', 'h', 'e'],\n",
       " ['h', 'm', 'n'],\n",
       " ['f', 'm', 'l', 'y'],\n",
       " ['i', 's'],\n",
       " ['t', 'h', 'e'],\n",
       " ['f', 'n', 'd', 't', 'n'],\n",
       " ['o', 'f'],\n",
       " ['f', 'r', 'd', 'm'],\n",
       " [','],\n",
       " ['j', 's', 't', 'c', 'e'],\n",
       " ['a', 'n', 'd'],\n",
       " ['p', 'c', 'e'],\n",
       " ['i', 'n'],\n",
       " ['t', 'h', 'e'],\n",
       " ['w', 'r', 'l', 'd'],\n",
       " [','],\n",
       " ['W', 'h', 'r', 's'],\n",
       " ['d', 's', 'r', 'g', 'r', 'd'],\n",
       " ['a', 'n', 'd'],\n",
       " ['c', 'n', 't', 'm', 'p', 't'],\n",
       " ['f', 'r'],\n",
       " ['h', 'm', 'n'],\n",
       " ['r', 'g', 'h', 't', 's'],\n",
       " ['h', 'v', 'e'],\n",
       " ['r', 's', 'l', 't', 'd'],\n",
       " ['i', 'n'],\n",
       " ['b', 'r', 'b', 'r', 's'],\n",
       " ['a', 'c', 't', 's'],\n",
       " ['w', 'h', 'c', 'h'],\n",
       " ['h', 'v', 'e'],\n",
       " ['ou', 't', 'r', 'g', 'd'],\n",
       " ['t', 'h', 'e'],\n",
       " ['c', 'n', 's', 'c', 'n', 'c', 'e'],\n",
       " ['o', 'f'],\n",
       " ['m', 'n', 'k', 'n', 'd'],\n",
       " [','],\n",
       " ['a', 'n', 'd'],\n",
       " ['t', 'h', 'e'],\n",
       " ['a', 'd', 'v', 'n', 't'],\n",
       " ['o', 'f'],\n",
       " ['a'],\n",
       " ['w', 'r', 'l', 'd'],\n",
       " ['i', 'n'],\n",
       " ['w', 'h', 'c', 'h'],\n",
       " ['h', 'm', 'n'],\n",
       " ['b', 'n', 'g', 's'],\n",
       " ['s', 'h', 'l', 'l'],\n",
       " ['e', 'n', 'j', 'y'],\n",
       " ['f', 'r', 'd', 'm'],\n",
       " ['o', 'f'],\n",
       " ['s', 'p', 'c', 'h'],\n",
       " ['a', 'n', 'd']]"
      ]
     },
     "execution_count": 46,
     "metadata": {},
     "output_type": "execute_result"
    }
   ],
   "source": [
    "regexp = '^[AEIOUaeiou]+|[AEIOUaeiou]+$|[^AEIOUaeiou]'\n",
    "def compress(word):\n",
    "    pieces = re.findall(regexp, word)\n",
    "    return pieces\n",
    "[compress(w) for w in english_udhr[:75]]"
   ]
  },
  {
   "cell_type": "code",
   "execution_count": 64,
   "metadata": {},
   "outputs": [
    {
     "name": "stdout",
     "output_type": "stream",
     "text": [
      "['kaa', 'kaa', 'kaa', 'kaakaaro', 'kaakaaviko', 'kaakaavo', 'kaakaoko', 'kaakasi', 'kaakau', 'kaakauko', 'kaakito', 'kaakuupato', 'kaaova', 'kaapa', 'kaapea', 'kaapie', 'kaapie', 'kaapiepato', 'kaapisi', 'kaapisivira', 'kaapo', 'kaapopato', 'kaara', 'kaare', 'kaareko', 'kaarekopie', 'kaareto', 'Kaareva', 'kaava', 'kaavaaua', 'kaaveaka', 'kaaveakapie', 'kaaveakapievira', 'kaaveakavira', 'kae', 'kae', 'kaekae', 'kaekae', 'kaekaearo', 'kaekaeo', 'kaekaesoto', 'kaekaevira', 'kaekeru', 'kaepaa', 'kaepie', 'kaepie', 'kaepievira', 'kaereasi', 'kaereasivira', 'kaetu', 'kaetupie', 'kaetuvira', 'kaeviro', 'kagave', 'kaie', 'kaiea', 'kaikaio', 'Kaio', 'kaipori', 'kaiporipie', 'kaiporivira', 'kairi', 'kairiro', 'kairo', 'kaita', 'kaitutu', 'kaitutupie', 'kaitutuvira', 'kakae', 'kakae', 'kakae', 'kakaevira', 'kakapikoa', 'kakapikoto', 'kakapu', 'kakapua', 'kakara', 'Kakarapaia', 'kakarau', 'Kakarera', 'kakata', 'kakate', 'kakatuara', 'kakau', 'kakauoa', 'kakavea', 'kakavoro', 'kakavu', 'kakeoto', 'kaki', 'kaki', 'kakiaki', 'kakiri', 'kakiua', 'kaku', 'kakua', 'kakuaku', 'kakupaa', 'kakuparei', 'kakupato', 'kakupie', 'kakupute', 'kakutauo', 'kakuto', 'kakutuiato', 'kakuva', 'kakuvira', 'kameoro', 'kandora', 'kaokao', 'kaokaoara', 'kaokaoto', 'kapa', 'kapa', 'kapaava', 'kapai', 'kapara', 'kaparu', 'kaparuvira', 'kapatau', 'kapatoro', 'kapatoroto', 'kape', 'kapeaa', 'kapeaa', 'kapeaavira', 'kapekape', 'kapekapevira', 'kapere', 'kaperepie', 'kapi', 'kapiaa', 'kapiaavira', 'kapikapi', 'kapiro', 'kapiroa', 'kapiroko', 'kapisi', 'kapisito', 'kapiu', 'kapiua', 'kapo', 'kapoa', 'kapokao', 'kapokapo', 'kapokapoa', 'kapokapora', 'kapokaporo', 'kapokari', 'kapokarito', 'kapokoa', 'kapoo', 'kapooto', 'kapoovira', 'kapopaa', 'kaporo', 'kaporo', 'kaporopa', 'kaporoto', 'kapoto', 'kapu', 'kapua', 'kapua', 'kapuapato', 'kapuapie', 'kapuasisi', 'kapupie', 'kapupiea', 'kapupiepaa', 'kapuu', 'kapuupie', 'kapuupiepa', 'Kara', 'kara', 'karaava', 'karakarao', 'karakaraoa', 'karakaraoto', 'karakaraovira', 'karakaroto', 'karakuku', 'karaova', 'karapi', 'karapivira', 'karara', 'karata', 'karato', 'karavau', 'karavisi', 'karavisito', 'karavuru', 'kare', 'kare', 'karekare', 'karekare', 'karekarererava', 'karekareto', 'kareke', 'karekepie', 'karekova', 'kareo', 'kareovira', 'karepie', 'karepieto', 'Karepirie', 'kari', 'karia', 'kariava', 'karikari', 'karirapa', 'karisito', 'karivai', 'karivaito', 'karivara', 'karo', 'karokaropo', 'karopato', 'karopo', 'karot', 'karoto', 'karova', 'karu', 'karuka', 'karukaru', 'karukava', 'Karuru', 'karutu', 'karuvira', 'kasi', 'kasi', 'kasi', 'kasiarao', 'kasiava', 'kasikasi', 'Kasikasiua', 'kasipie', 'kasipu', 'kasipupie', 'kasipuvira', 'kasirao', 'kasiraopie', 'kasiraovira', 'kasiu', 'kasiura', 'kasivari', 'kasuari', 'kata', 'katai', 'kataitoarei', 'katakatai', 'katakataivira', 'kataraua', 'katarauto', 'katavira', 'katokato', 'katokatoto', 'katokatovira', 'katokoi', 'katopato', 'katoto', 'katuara', 'katuarato', 'katukatu', 'katuta', 'kau', 'kaukau', 'kaukaupie', 'kaukauvira', 'kaukovo', 'kauo', 'kauokauo', 'kaureo', 'kaureoto', 'kausiopa', 'kausiovira', 'Kava', 'kavakavau', 'kavatao', 'Kavatara', 'kavau', 'kavau', 'kavau asiava', 'kave', 'kavee', 'kaveepaa', 'kaverui', 'kaveruko', 'kavesi', 'kavikavi', 'kavikaviru', 'kavikaviru', 'kaviko', 'kavikoa', 'kaviru', 'kaviru', 'kaviruto', 'kaviruvira', 'kavo', 'kavokavo', 'kavokavoa', 'kavokavoto', 'kavora', 'kavorato', 'kavori', 'kavori', 'kavorou', 'kavovoa', 'kavovovira', 'kavu', 'kavu', 'kavuava', 'kavupie', 'kavura', 'kavurao', 'kavusi', 'kavuvo', 'kea', 'keakea', 'keakeato', 'keari', 'kearito', 'keavira', 'kee', 'keekee', 'keekeepa', 'keekeeri', 'keekeerito', 'keera', 'keeriva', 'keesi', 'keetaa', 'keevuru', 'keevuruvira', 'kegi', 'kei', 'keke', 'keke', 'kekepie', 'kekeputu', 'kekeputuvira', 'kekeraokovira', 'kekesopa', 'kekevoto', 'kekevotovira', 'kekira', 'keo', 'keoka', 'keopa', 'keovira', 'kepa', 'kepa toupato', 'kepetai', 'kepi', 'kepia', 'kepikepi', 'kepiko', 'kepiriko', 'kepiro', 'kepisi', 'kepisiva', 'kepita', 'kepitai', 'kepito', 'kepo', 'kepoi', 'keposi', 'kepoto', 'kera', 'kerakera', 'kerari', 'keraria', 'kerau', 'kerauto', 'keravisi', 'keravisia', 'keravo', 'Kereaka', 'kerekoi', 'kerere', 'kerereua', 'kerete', 'kerete', 'Kerevaru', 'keri', 'Keriaka', 'kerikerisi', 'kerio', 'kerioua', 'keripaara', 'keripato', 'kerisi', 'kerisito', 'kerisivira', 'keritara', 'keriva', 'keroroi', 'kerosiri', 'keru', 'keru', 'kerui', 'keruiato', 'keruito', 'kerupiua', 'keruria', 'keruriato', 'keruriavira', 'kesi', 'kesie', 'kesievira', 'kesikea vaaguru', 'kesio', 'kesioto', 'kesivira', 'keta', 'ketaka', 'ketakaa', 'ketato', 'ketoo', 'ketoo', 'ketoopie', 'ketoopieara', 'ketoroa', 'ketu', 'kevaita', 'kevaita', 'kevaitato', 'kevira', 'kevisi', 'kevoisi', 'kevoisivira', 'kie', 'kii', 'kiikariko', 'kiipie', 'kiire', 'kiire', 'kiiru', 'kiiuto', 'kiki', 'kiki', 'kikipi', 'kikipisi', 'kikira', 'kikiraeko', 'kikisi', 'kikisikae', 'kikisiova', 'kikitausi', 'kikoo', 'kilia', 'kio', 'kipa', 'kipapie', 'kipe', 'kipekipe', 'kipekipea', 'kipeto', 'kipu', 'kipukipu', 'kipupaa', 'kipupato', 'kipuvira', 'kira', 'kirava', 'kire', 'kiri', 'kirikaokao', 'kirioto', 'kiro', 'kirokiro', 'kirokiro', 'kirokiropato', 'kiroko', 'kiru', 'kirukiru', 'kirukirua', 'kirupato', 'kitoiva', 'kitu', 'kitukitu', 'kiu', 'kiupie', 'kiuto', 'kiuve', 'kiuvu', 'koa', 'koai', 'koakoa', 'koakoa', 'koara', 'koarao', 'koaraua', 'koarava', 'koasio', 'koata', 'koatapie', 'koauve', 'koavaato', 'koe', 'koea', 'koekoe', 'koekoeto', 'koepato', 'koeta', 'koetaova', 'koetapie', 'koetava', 'koetavira', 'koeto', 'kogo', 'kogova', 'koi', 'koie', 'koie', 'koike', 'koiketo', 'koikevira', 'koikoi', 'koikoipato', 'koikoipie', 'koikoito', 'koisi', 'koisiva', 'koivira', 'koka', 'kokai', 'kokara', 'kokaraa', 'kokarapato', 'koke', 'kokee', 'kokepato', 'kokepato', 'kokepie', 'kokerao', 'kokeriva', 'kokeu', 'kokeva', 'koki', 'kokio', 'Kokipaia', 'kokito', 'kokivira', 'koko', 'koko', 'kokoi', 'kokoisi', 'kokokoru', 'kokoo', 'kokooko', 'kokookoa', 'kokoote', 'kokootu', 'kokopa', 'kokopakou', 'kokopeko', 'kokopekovira', 'kokopeoto', 'kokopuoto', 'kokopuovira', 'Kokopuru', 'kokopuvira', 'kokora', 'kokorai', 'kokorato', 'kokori', 'kokorivira', 'kokoro', 'kokoroki', 'kokoroku', 'kokorokupie', 'kokoropato', 'kokorosi', 'kokorovira', 'kokoru', 'kokoruu', 'kokoruu', 'kokosi', 'kokosi', 'Kokosiria', 'kokosito', 'kokosiva', 'kokotagoe', 'kokote', 'kokoto', 'kokotu', 'kokotua', 'kokotuo', 'kokovae', 'kokovaeva', 'kokovara', 'kokovara', 'kokovaravira', 'kokovu', 'kokovua', 'kokovua', 'kokovua', 'kokovupaparie', 'kokovurito', 'koku', 'kokuoku', 'kokureko', 'kokuuto', 'kooe', 'kookaa', 'kookai', 'kookoo', 'kookooia', 'kookoopeko', 'kookoopi', 'kooku', 'kookuto', 'kookuvira', 'koopi', 'koopipi', 'koora', 'kooroo', 'koorooto', 'koorooto', 'kooroovira', 'kooru', 'koota', 'kootopa', 'kootutu', 'koou', 'kooupato', 'koova', 'koova', 'koovoto', 'koovotova', 'kopa', 'kopakai', 'kopakava', 'kopakopa', 'kopakovira', 'kopato', 'kopii', 'kopiia', 'kopiipato', 'kopiipie', 'kopiito', 'kopikao', 'kopikopi', 'kopikopiara', 'kopipi', 'kopirovu', 'kopu', 'kopua', 'kopuasi', 'kopuasipie', 'kopuasito', 'kopuasitovira', 'kopuasivira', 'Kopuisi', 'kopukopu', 'kopukopua', 'kopupa', 'kopupira', 'kopuro', 'Kopuru', 'kopuvioro', 'kopuvira', 'kora', 'korapato', 'korara', 'koraraoko', 'korau', 'koraua', 'korauru', 'korauvira', 'korea', 'korekare', 'Korere', 'korereto', 'kori', 'koria', 'Koribori', 'korikori', 'korikoripava', 'korita', 'korita', 'koriteira', 'koro', 'kororo', 'kororo', 'kororoisivira', 'kororovi', 'kororovivira', 'kororu', 'kororupie', 'koroto', 'koroviri', 'korovo', 'koru', 'Koruko', 'korukoru', 'korukorupato', 'koruo', 'koruoto', 'koruou', 'koruoua', 'koruovira', 'korupie', 'korupievira', 'kosi', 'kosikosi', 'kosikosi', 'kosipa', 'kosipato', 'kosipie', 'kosivago', 'kosiviro', 'koto', 'kotokoto', 'kotokotoara', 'kotopa', 'kotopa', 'kotovira', 'kotu', 'kotukotu', 'kotupiua', 'koturu', 'kou', 'kou', 'koue', 'koue', 'koui', 'koukou', 'koukouo', 'koukouo', 'kova', 'kovaaro', 'kovaeto', 'kovaii', 'kovakovara', 'kovapato', 'kovarato', 'kovarua', 'kovasi', 'kovata', 'kovatavira', 'kovato', 'kovauke', 'Kovava', 'kove', 'kove', 'kovea', 'kovekove', 'koveoapa', 'koveva', 'Kovia', 'kovikoro', 'kovire', 'kovirea', 'kovo', 'kovo', 'kovo', 'kovoa', 'kovokovo', 'kovokovo', 'kovokovo', 'kovokovoa', 'kovopaa', 'kovopato', 'kovopie', 'kovoruko', 'kovoto', 'kovovo', 'kovuaka', 'kovuaro', 'kovukovu', 'kovukovuto', 'kovukovuvira', 'kovuru', 'kovurui', 'kovuruko', 'kovurukovira', 'kovuruvira', 'kovuto', 'kuara', 'kue', 'kuea', 'kuga', 'kui', 'kuio', 'kuioi', 'kuiopesi', 'kuiopetu', 'kuito', 'kuka', 'kukara', 'kukauviro', 'kukiuki', 'kukiukia', 'kuku', 'kukua', 'kukuaua', 'kukue', 'kukue pute', 'kukuepaa', 'kukuku', 'kukupira', 'kukuriko', 'kukurikoto', 'kukusiri', 'kukutauvu', 'kukutu', 'kukuuku', 'kukuukua', 'kukuukupie', 'kukuuvua', 'kukuvai', 'kukuvaipaa', 'kukuvita', 'kukuvua', 'Kuokuo', 'kupare', 'kupareto', 'kupekupe', 'kupekupepa', 'kupero', 'kuperoo', 'kuperovira', 'kupii', 'kupukupu', 'kurae', 'kurasia', 'kurasia', 'kurei', 'kuri', 'kuriato', 'kurikaakaakuto', 'kurikasi', 'kurikasivira', 'kurikoko', 'kurikuri', 'kuripaa', 'kuritava', 'kuroa', 'kuroea', 'kurokuro', 'kurokuroto', 'kuroo', 'kurooro', 'kurovira', 'kuru', 'kurue', 'kurupi', 'kururai', 'kururu', 'kurutu', 'Kusi', 'kusii', 'kusike', 'kusito', 'kuu', 'kuu', 'kuukuuvu', 'kuukuuvuto', 'kuuoa', 'kuupie', 'kuurea', 'kuuri', 'kuuva', 'kuuvaki', 'kuuvakito', 'kuuvato', 'kuuvavira', 'kuuvu', 'kuuvuvira', 'kuva', 'kuvaku', 'kuvato', 'kuvau', 'kuvaupie', 'kuvauvira', 'kuvera', 'kuverava', 'kuvere', 'kuverea', 'kuvereto', 'kuverevira', 'kuvoro', 'kuvu', 'kuvuara', 'kuvukuvu', 'kuvukuvua', 'kuvupato', 'kuvuto']\n"
     ]
    }
   ],
   "source": [
    "rotokas_words = nltk.corpus.toolbox.words('rotokas.dic')\n",
    "print(rotokas_words)"
   ]
  },
  {
   "cell_type": "markdown",
   "metadata": {},
   "source": [
    "#### rotokas_words의 item 1개를 w에 넣는다\n",
    "#### re.findall을 통해 w에서 '[ptksvr][aeiou]' 조건에 맞는 부분을 모두 찾은 리스트가 만들어진다. 이 리스트를 '리스트2'라 하자\n",
    "#### 리스트2의 첫 번째 item을 cv에 넣는다. 리스트의 첫 번째 item이 큰 리스트에 쌓인다\n",
    "#### 리스트2의 두 번째 item을 cv에 넣는다. 리스트의 두 번째 item이 큰 리스트에 쌓인다\n",
    "#### ...\n",
    "#### 리스트의 마지막 item을 cv에 넣는다.  리스트의 마지막 item이 큰 리스트에 쌓인다"
   ]
  },
  {
   "cell_type": "code",
   "execution_count": 70,
   "metadata": {},
   "outputs": [
    {
     "data": {
      "text/plain": [
       "[('ko', 420),\n",
       " ('ka', 418),\n",
       " ('ra', 187),\n",
       " ('ku', 173),\n",
       " ('to', 148),\n",
       " ('ke', 148),\n",
       " ('vi', 105),\n",
       " ('pi', 105),\n",
       " ('si', 100),\n",
       " ('ki', 94)]"
      ]
     },
     "execution_count": 70,
     "metadata": {},
     "output_type": "execute_result"
    }
   ],
   "source": [
    "cvs = [cv for w in rotokas_words for cv in re.findall('[ptksvr][aeiou]', w)]\n",
    "# print(cvs)\n",
    "nltk.FreqDist(cvs).most_common(10)"
   ]
  },
  {
   "cell_type": "markdown",
   "metadata": {},
   "source": [
    "#### ConditionalFreqDist의 input은 반드시 각 item의 길이가 2인 리스트여야 한다\n",
    "#### 행: item의 첫 character\n",
    "#### 렬: item의 둘째 character"
   ]
  },
  {
   "cell_type": "code",
   "execution_count": 63,
   "metadata": {},
   "outputs": [
    {
     "name": "stdout",
     "output_type": "stream",
     "text": [
      "    a   e   i   o   u \n",
      "k 418 148  94 420 173 \n",
      "p  83  31 105  34  51 \n",
      "r 187  63  84  89  79 \n",
      "s   0   0 100   2   1 \n",
      "t  47   8   0 148  37 \n",
      "v  93  27 105  48  49 \n"
     ]
    }
   ],
   "source": [
    "cfd = nltk.ConditionalFreqDist(cvs) # CFD works pairwise only\n",
    "cfd.tabulate()"
   ]
  },
  {
   "cell_type": "code",
   "execution_count": null,
   "metadata": {},
   "outputs": [],
   "source": []
  },
  {
   "cell_type": "code",
   "execution_count": null,
   "metadata": {},
   "outputs": [],
   "source": []
  },
  {
   "cell_type": "code",
   "execution_count": null,
   "metadata": {},
   "outputs": [],
   "source": []
  }
 ],
 "metadata": {
  "kernelspec": {
   "display_name": "Python 3",
   "language": "python",
   "name": "python3"
  },
  "language_info": {
   "codemirror_mode": {
    "name": "ipython",
    "version": 3
   },
   "file_extension": ".py",
   "mimetype": "text/x-python",
   "name": "python",
   "nbconvert_exporter": "python",
   "pygments_lexer": "ipython3",
   "version": "3.7.1"
  }
 },
 "nbformat": 4,
 "nbformat_minor": 1
}
